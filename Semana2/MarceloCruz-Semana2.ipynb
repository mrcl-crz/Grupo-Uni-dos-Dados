{
 "cells": [
  {
   "cell_type": "markdown",
   "metadata": {},
   "source": [
    "1. Qual a diferença entre uma variável tipo int e uma tipo float?\n",
    "\n",
    "Uma variável do tipo int é utilizada para guardar valores inteiros, sejam eles positivos ou negativos. Por exemplo, você pode guardar o número de vezes que um carro azul passou na frente da sua casa numa variável do tipo int.\n",
    "Já uma variável do tipo float é utilizada para guardar valores decimais, ou seja, números reais. \n",
    "A diferença entre estes dois tipos está relacionada à precisão, pois o tipo float possui precisão de 6 casas decimais, enquanto que o tipo int não possui casas decimais representando a precisão do valor."
   ]
  },
  {
   "cell_type": "markdown",
   "metadata": {},
   "source": [
    "2. O que é uma variável do tipo string?\n",
    "\n",
    "É uma variável que guarda uma sequência de caracteres, como um nome ou uma frase inteira, contendo diversos caracteres. Ela é criada entre aspas simples ou duplas.\n",
    "\n",
    "Exemplos: \n",
    "\n",
    "'Hello, World!'\n",
    "\n",
    "'Este número, o 5, também é uma string'\n"
   ]
  },
  {
   "cell_type": "markdown",
   "metadata": {},
   "source": [
    "3. Crie uma função que encontre o maior valor entre 3 números imputados pelo usuário."
   ]
  },
  {
   "cell_type": "code",
   "execution_count": 18,
   "metadata": {},
   "outputs": [
    {
     "name": "stdout",
     "output_type": "stream",
     "text": [
      "32\n"
     ]
    }
   ],
   "source": [
    "def findGreaterValue(*values):\n",
    "    greater = -999999999\n",
    "    for value in values:\n",
    "        if value > greater:\n",
    "            greater = value\n",
    "    return greater\n",
    "\n",
    "greater_value = findGreaterValue(23, 1, 32)\n",
    "print(greater_value)"
   ]
  },
  {
   "cell_type": "markdown",
   "metadata": {},
   "source": [
    "4. Crie uma função que identifique se duas palavras inseridas pelo usuário são anagramas."
   ]
  },
  {
   "cell_type": "code",
   "execution_count": null,
   "metadata": {},
   "outputs": [],
   "source": [
    "def identifyAnagram(word1, word2):\n",
    "    output = True\n",
    "    while(output):\n",
    "        word1 = ''.join(sorted(word1.lower()))\n",
    "        print(word1, word2)\n",
    "        if word1 == word2.lower():\n",
    "            output = False\n",
    "        else:\n",
    "            output = True\n",
    "    print(word1, word2)\n",
    "    \n",
    "print(identifyAnagram('acot', 'toca'))"
   ]
  },
  {
   "cell_type": "markdown",
   "metadata": {},
   "source": [
    "5. Crie uma função que retorne a contagem de consoantes e vogais de uma palavra imputada pelo usuário."
   ]
  },
  {
   "cell_type": "code",
   "execution_count": 20,
   "metadata": {},
   "outputs": [
    {
     "name": "stdout",
     "output_type": "stream",
     "text": [
      "The word otorrinolaringologista has 10 vowels and 12 consonants\n"
     ]
    }
   ],
   "source": [
    "def countVowelConsonant(word):\n",
    "    vowels = 'aeiou'\n",
    "    count_vowel = 0\n",
    "    count_consonant = 0\n",
    "    for letter in word:\n",
    "        if letter in vowels:\n",
    "            count_vowel += 1\n",
    "        else:\n",
    "            count_consonant += 1\n",
    "    return count_vowel, count_consonant\n",
    "\n",
    "word = 'otorrinolaringologista'\n",
    "num_vowel, num_consonant = countVowelConsonant(word)\n",
    "print(f'The word {word} has {num_vowel} vowels and {num_consonant} consonants')"
   ]
  },
  {
   "cell_type": "markdown",
   "metadata": {},
   "source": [
    "6. O que são dicionários em Python?\n",
    "\n",
    "São uma forma de organizar os dados. Nesse caso, os dados são estruturados em pares chave-valor, por exemplo: \n",
    "\n",
    "nome: 'Marcelo'\n",
    "\n",
    "Na estrutura geral, ele fica assim:\n",
    "\n",
    "dict = {\n",
    "\n",
    "    chave1: valor1,\n",
    "\n",
    "    chave2: valor2,\n",
    "\n",
    "    chave3: valor3\n",
    "    \n",
    "}\n",
    "\n",
    "Você acessa os valores de um dicionário através de suas chaves, como no exemplo a seguir:\n",
    "\n",
    "valor1_do_dict = dict['chave1']\n",
    "\n",
    "\n",
    "Se você quer adicionar algum valor, você simplesmente faz o seguinte:\n",
    "\n",
    "dict['chave1'] = 'valor_aleatorio'\n",
    "\n",
    "Agora, se você quer remover um valor, você faz isso:\n",
    "\n",
    "dict.pop('chave1')"
   ]
  },
  {
   "cell_type": "markdown",
   "metadata": {},
   "source": [
    "7. Crie uma lista com os 100 mil primeiros números naturais na sequência (i.e., de 1 à 100000). Salve esta lista em um objeto com nome cem_mil_lista. Inicie então uma lista vazia chamada numeros_pares. A partir da lista cem_mil_lista, salve todos os %%valores pares na lista numeros_pares. Resolva este exercício de duas formas: a primeira utilizando um loop com o for e a segunda com list comprehension. Compare o tempo de execução das duas.\n",
    "* Para comparar o tempo de execução, insira na primeira linha da célula %%time."
   ]
  },
  {
   "cell_type": "code",
   "execution_count": 21,
   "metadata": {},
   "outputs": [
    {
     "name": "stdout",
     "output_type": "stream",
     "text": [
      "CPU times: total: 15.6 ms\n",
      "Wall time: 24.1 ms\n"
     ]
    }
   ],
   "source": [
    "%%time\n",
    "cem_mil_lista = []\n",
    "even_numbers = []\n",
    "for i in range(1, 100001):\n",
    "    cem_mil_lista.append(i)\n",
    "    if i % 2 == 0:\n",
    "        even_numbers.append(i)"
   ]
  },
  {
   "cell_type": "code",
   "execution_count": 22,
   "metadata": {},
   "outputs": [
    {
     "name": "stdout",
     "output_type": "stream",
     "text": [
      "CPU times: total: 15.6 ms\n",
      "Wall time: 10.5 ms\n"
     ]
    }
   ],
   "source": [
    "%%time\n",
    "cem_mil_lista = [i for i in range(1, 100001)]\n",
    "even_numbers = [i for i in cem_mil_lista if i % 2 == 0]"
   ]
  },
  {
   "cell_type": "markdown",
   "metadata": {},
   "source": [
    "8. Para que serve o argumento Kwargs nas funções?\n",
    "\n",
    "Quando você deseja utilizar uma função com paramêtros arbitrários, ou seja, que não são pré estabelecidos, você utiliza *args para passar uma tupla. Beleza, mas e o kwargs? O kwargs segue a mesma ideia, mas ao invés de passar uma tupla, você passa um dicionário, contendo os pares chave-valor característicos. "
   ]
  },
  {
   "cell_type": "markdown",
   "metadata": {},
   "source": [
    "9. Escreva um programa em Python para encontrar os números que são divisíveis por 7 e múltiplos de 5, entre 1500 e 2700 (ambos incluídos). Em outras palavras, combine o que você aprendeu de loop e condicional para criar uma lista de valores que atendam às condições exigidas."
   ]
  },
  {
   "cell_type": "code",
   "execution_count": 1,
   "metadata": {},
   "outputs": [
    {
     "name": "stdout",
     "output_type": "stream",
     "text": [
      "[1505, 1540, 1575, 1610, 1645, 1680, 1715, 1750, 1785, 1820, 1855, 1890, 1925, 1960, 1995, 2030, 2065, 2100, 2135, 2170, 2205, 2240, 2275, 2310, 2345, 2380, 2415, 2450, 2485, 2520, 2555, 2590, 2625, 2660, 2695]\n"
     ]
    }
   ],
   "source": [
    "my_numbers = []\n",
    "for number in range(1500, 2701):\n",
    "    if number % 7 == 0 and number % 5 == 0:\n",
    "        my_numbers.append(number)\n",
    "\n",
    "print(my_numbers)\n"
   ]
  },
  {
   "cell_type": "markdown",
   "metadata": {},
   "source": [
    "10. Escreva um programa Python para construir o padrão a seguir, usando um número de loop aninhado. \n",
    "\n",
    "Ir para o editor\n",
    "\n",
    "Saída esperada:\n",
    "\n",
    "1\n",
    "\n",
    "22\n",
    "\n",
    "333\n",
    "\n",
    "4444\n",
    "\n",
    "55555\n",
    "\n",
    "666666\n",
    "\n",
    "7777777\n",
    "\n",
    "88888888\n",
    "\n",
    "999999999\n"
   ]
  },
  {
   "cell_type": "code",
   "execution_count": 4,
   "metadata": {},
   "outputs": [
    {
     "name": "stdout",
     "output_type": "stream",
     "text": [
      "1\n",
      "22\n",
      "333\n",
      "4444\n",
      "55555\n",
      "666666\n",
      "7777777\n",
      "88888888\n",
      "999999999\n"
     ]
    }
   ],
   "source": [
    "for number in range(1,10):\n",
    "    print(str(number)*number)"
   ]
  },
  {
   "cell_type": "markdown",
   "metadata": {},
   "source": [
    "11. Escreva um programa em Python para verificar se um alfabeto é uma vogal ou uma consoante. Ir para o editor\n",
    "\n",
    "Saída esperada:\n",
    "\n",
    "Insira uma letra do alfabeto: m\n",
    "\n",
    "m é uma consoante.\n"
   ]
  },
  {
   "cell_type": "code",
   "execution_count": 16,
   "metadata": {},
   "outputs": [
    {
     "name": "stdout",
     "output_type": "stream",
     "text": [
      "t é uma consoante\n"
     ]
    }
   ],
   "source": [
    "def verifyVowelConsonant(letter):\n",
    "    vowels = 'aeiou'\n",
    "    if letter in vowels:\n",
    "        print(f'{letter} é uma vogal')\n",
    "    else:\n",
    "        print(f'{letter} é uma consoante')\n",
    "\n",
    "verifyVowelConsonant(input('Insira uma letra do alfabeto: ')) "
   ]
  },
  {
   "cell_type": "markdown",
   "metadata": {},
   "source": [
    "(PARTE 3) Bibliotecas e Numpy:"
   ]
  },
  {
   "cell_type": "code",
   "execution_count": 1,
   "metadata": {},
   "outputs": [],
   "source": [
    "import numpy as np"
   ]
  },
  {
   "cell_type": "markdown",
   "metadata": {},
   "source": [
    "12. Para que serve o PIP no Python?\n",
    "\n",
    "O PIP serve para gerenciar os pacotes do Python, sendo assim, ele executa funções como a de instalar pacotes, removê-los, atualizá-los ou listá-los. Em outras palavras, é com o PIP que você consegue obter tudo aquilo que você precisa para rodar seus projetos em Python."
   ]
  },
  {
   "cell_type": "markdown",
   "metadata": {},
   "source": [
    "13. Crie um array com 10 números no formato float. Converta-os para o formato inteiro.\n"
   ]
  },
  {
   "cell_type": "code",
   "execution_count": 5,
   "metadata": {},
   "outputs": [
    {
     "name": "stdout",
     "output_type": "stream",
     "text": [
      "[0. 1. 2. 3. 4. 5. 6. 7. 8. 9.]\n",
      "[0 1 2 3 4 5 6 7 8 9]\n"
     ]
    }
   ],
   "source": [
    "array_ten = np.arange(10, dtype=float)\n",
    "integer_array = array_ten.astype(int)\n",
    "print(array_ten)\n",
    "print(integer_array)"
   ]
  },
  {
   "cell_type": "markdown",
   "metadata": {},
   "source": [
    "14. Converta o array abaixo para o formato booleano.\n",
    "\n",
    "a = np.array([[1,0,1],[1,1,1],[0,0,0]])\n"
   ]
  },
  {
   "cell_type": "code",
   "execution_count": 9,
   "metadata": {},
   "outputs": [
    {
     "data": {
      "text/plain": [
       "array([[ True, False,  True],\n",
       "       [ True,  True,  True],\n",
       "       [False, False, False]])"
      ]
     },
     "execution_count": 9,
     "metadata": {},
     "output_type": "execute_result"
    }
   ],
   "source": [
    "a = np.array([[1,0,1],[1,1,1],[0,0,0]])\n",
    "boolean_array = a.astype(bool)\n",
    "boolean_array"
   ]
  },
  {
   "cell_type": "markdown",
   "metadata": {},
   "source": [
    "15. Empilhe horizontalmente os arrays abaixo.\n",
    "\n",
    "a = np.array([[10,20,15],[0,0,20]])\n",
    "\n",
    "b = np.array([[15,7,3],[5,5,8]])"
   ]
  },
  {
   "cell_type": "code",
   "execution_count": 11,
   "metadata": {},
   "outputs": [
    {
     "name": "stdout",
     "output_type": "stream",
     "text": [
      "[[10 20 15 15  7  3]\n",
      " [ 0  0 20  5  5  8]] \n",
      "\n",
      "[[10 20 15 15  7  3]\n",
      " [ 0  0 20  5  5  8]] \n",
      "\n",
      "[[10 20 15 15  7  3]\n",
      " [ 0  0 20  5  5  8]]\n"
     ]
    }
   ],
   "source": [
    "a = np.array([[10,20,15],[0,0,20]])\n",
    "b = np.array([[15,7,3],[5,5,8]])\n",
    "\n",
    "#first method\n",
    "c = np.concatenate([a,b], axis=1)\n",
    "print(c, '\\n')\n",
    "\n",
    "#second method\n",
    "c = np.hstack([a,b])\n",
    "print(c, '\\n')\n",
    "\n",
    "#third method\n",
    "c = np.c_[a,b]\n",
    "print(c)"
   ]
  },
  {
   "cell_type": "markdown",
   "metadata": {},
   "source": [
    "16. Empilhe verticalmente os arrays do exercício 15. (Usem o np.vstack)"
   ]
  },
  {
   "cell_type": "code",
   "execution_count": 12,
   "metadata": {},
   "outputs": [
    {
     "name": "stdout",
     "output_type": "stream",
     "text": [
      "[[10 20 15]\n",
      " [ 0  0 20]\n",
      " [15  7  3]\n",
      " [ 5  5  8]] \n",
      "\n",
      "[[10 20 15]\n",
      " [ 0  0 20]\n",
      " [15  7  3]\n",
      " [ 5  5  8]] \n",
      "\n",
      "[[10 20 15]\n",
      " [ 0  0 20]\n",
      " [15  7  3]\n",
      " [ 5  5  8]]\n"
     ]
    }
   ],
   "source": [
    "#first method\n",
    "c = np.concatenate([a,b], axis=0)\n",
    "print(c, '\\n')\n",
    "\n",
    "#second method\n",
    "c = np.vstack([a,b])\n",
    "print(c, '\\n')\n",
    "\n",
    "#third method\n",
    "c = np.r_[a,b]\n",
    "print(c)"
   ]
  },
  {
   "cell_type": "markdown",
   "metadata": {},
   "source": [
    "17. Gere uma lista de números inteiros que vão de 0 a 100, de 2 em 2, e, na sequência, converta essa lista em um array."
   ]
  },
  {
   "cell_type": "code",
   "execution_count": 13,
   "metadata": {},
   "outputs": [
    {
     "data": {
      "text/plain": [
       "array([ 0,  2,  4,  6,  8, 10, 12, 14, 16, 18, 20, 22, 24, 26, 28, 30, 32,\n",
       "       34, 36, 38, 40, 42, 44, 46, 48, 50, 52, 54, 56, 58, 60, 62, 64, 66,\n",
       "       68, 70, 72, 74, 76, 78, 80, 82, 84, 86, 88, 90, 92, 94, 96, 98])"
      ]
     },
     "execution_count": 13,
     "metadata": {},
     "output_type": "execute_result"
    }
   ],
   "source": [
    "even_numbers = np.arange(0,100,2)\n",
    "even_numbers"
   ]
  },
  {
   "cell_type": "markdown",
   "metadata": {},
   "source": [
    "18. Gere uma lista de valores que vão de 5 a 10 de 0.5 em 0.5."
   ]
  },
  {
   "cell_type": "code",
   "execution_count": 14,
   "metadata": {},
   "outputs": [
    {
     "data": {
      "text/plain": [
       "array([5. , 5.5, 6. , 6.5, 7. , 7.5, 8. , 8.5, 9. , 9.5])"
      ]
     },
     "execution_count": 14,
     "metadata": {},
     "output_type": "execute_result"
    }
   ],
   "source": [
    "decimal_numbers = np.arange(5,10,0.5)\n",
    "decimal_numbers"
   ]
  },
  {
   "cell_type": "markdown",
   "metadata": {},
   "source": [
    "19. Crie um array 3x3 cujos valores seguem uma distribuição normal."
   ]
  },
  {
   "cell_type": "code",
   "execution_count": 15,
   "metadata": {},
   "outputs": [
    {
     "data": {
      "text/plain": [
       "array([[ 0.6172167 , -0.05037315, -0.10181611],\n",
       "       [ 0.41980963, -0.86175854, -0.06748603],\n",
       "       [-0.28076913,  0.88391588, -0.21038619]])"
      ]
     },
     "execution_count": 15,
     "metadata": {},
     "output_type": "execute_result"
    }
   ],
   "source": [
    "array_3x3 = np.random.randn(3,3)\n",
    "array_3x3"
   ]
  },
  {
   "cell_type": "markdown",
   "metadata": {},
   "source": [
    "20. Como calcular o determinante de uma matriz no Numpy?"
   ]
  },
  {
   "cell_type": "code",
   "execution_count": 17,
   "metadata": {},
   "outputs": [
    {
     "data": {
      "text/plain": [
       "0.1301707280200646"
      ]
     },
     "execution_count": 17,
     "metadata": {},
     "output_type": "execute_result"
    }
   ],
   "source": [
    "#Podemos fazer isso utilizando a função det() do módulo linalg do numpy\n",
    "det = np.linalg.det(array_3x3)\n",
    "det"
   ]
  }
 ],
 "metadata": {
  "interpreter": {
   "hash": "a813bcde358b3c421f8e2d93368f535bfd2def65934b90ef780697b488aed2c0"
  },
  "kernelspec": {
   "display_name": "Python 3.9.11 64-bit",
   "language": "python",
   "name": "python3"
  },
  "language_info": {
   "codemirror_mode": {
    "name": "ipython",
    "version": 3
   },
   "file_extension": ".py",
   "mimetype": "text/x-python",
   "name": "python",
   "nbconvert_exporter": "python",
   "pygments_lexer": "ipython3",
   "version": "3.9.11"
  },
  "orig_nbformat": 4
 },
 "nbformat": 4,
 "nbformat_minor": 2
}
