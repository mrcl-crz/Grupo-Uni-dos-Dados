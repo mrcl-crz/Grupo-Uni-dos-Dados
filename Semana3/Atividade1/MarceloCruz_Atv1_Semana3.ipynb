{
  "nbformat": 4,
  "nbformat_minor": 0,
  "metadata": {
    "colab": {
      "name": "MarceloCruz-Atv1-Semana3.ipynb",
      "provenance": []
    },
    "kernelspec": {
      "name": "python3",
      "display_name": "Python 3"
    },
    "language_info": {
      "name": "python"
    }
  },
  "cells": [
    {
      "cell_type": "markdown",
      "source": [
        "# Semana 3 - Atividade 1 - Marcelo Cruz\n",
        "\n",
        "Análise de Avistamento de OVNIs\n",
        "\n",
        "https://www.kaggle.com/datasets/NUFORC/ufo-sightings"
      ],
      "metadata": {
        "id": "HyhfeEXE_hva"
      }
    },
    {
      "cell_type": "markdown",
      "source": [
        "## Importar bibliotecas"
      ],
      "metadata": {
        "id": "Klid3cC8zQNk"
      }
    },
    {
      "cell_type": "code",
      "source": [
        "import pandas as pd # utilizado para ler e analisar os dados\n",
        "import numpy as np # utilizado para manipular os dados\n",
        "import matplotlib.pyplot as plt # utilizada para visualização dos dados\n",
        "import seaborn as sns # utilizada para visualização dos dados\n",
        "import statistics as sts # utilizada para analisar os dados"
      ],
      "metadata": {
        "id": "2E6B2loeCukT"
      },
      "execution_count": 1,
      "outputs": []
    },
    {
      "cell_type": "markdown",
      "source": [
        "## Carregar os dados"
      ],
      "metadata": {
        "id": "2FyoKmeczU4D"
      }
    },
    {
      "cell_type": "code",
      "source": [
        "ufo_data = pd.read_csv('/content/ufodata.csv', on_bad_lines='skip', na_values = ['UNKNOWN','UNK'], \n",
        "                        na_filter = True, \n",
        "                        skip_blank_lines = True)"
      ],
      "metadata": {
        "colab": {
          "base_uri": "https://localhost:8080/"
        },
        "id": "lSdX0mpJyFF9",
        "outputId": "c547ff82-12f0-43de-d377-3d30474ba625"
      },
      "execution_count": 2,
      "outputs": [
        {
          "output_type": "stream",
          "name": "stderr",
          "text": [
            "/usr/local/lib/python3.7/dist-packages/IPython/core/interactiveshell.py:2882: DtypeWarning: Columns (5,9) have mixed types.Specify dtype option on import or set low_memory=False.\n",
            "  exec(code_obj, self.user_global_ns, self.user_ns)\n"
          ]
        }
      ]
    },
    {
      "cell_type": "markdown",
      "source": [
        "## Breve olhada nos dados"
      ],
      "metadata": {
        "id": "T3WcPyt9zky7"
      }
    },
    {
      "cell_type": "code",
      "source": [
        "ufo_data.head()"
      ],
      "metadata": {
        "id": "N5V2wQZGw8hC",
        "colab": {
          "base_uri": "https://localhost:8080/",
          "height": 545
        },
        "outputId": "ea97db46-3cb8-42a2-c410-9701e09adb1b"
      },
      "execution_count": 3,
      "outputs": [
        {
          "output_type": "execute_result",
          "data": {
            "text/plain": [
              "           datetime                  city state country     shape  \\\n",
              "0  10/10/1949 20:30            san marcos    tx      us  cylinder   \n",
              "1  10/10/1949 21:00          lackland afb    tx     NaN     light   \n",
              "2  10/10/1955 17:00  chester (uk/england)   NaN      gb    circle   \n",
              "3  10/10/1956 21:00                  edna    tx      us    circle   \n",
              "4  10/10/1960 20:00               kaneohe    hi      us     light   \n",
              "\n",
              "  duration (seconds) duration (hours/min)  \\\n",
              "0               2700           45 minutes   \n",
              "1               7200              1-2 hrs   \n",
              "2                 20           20 seconds   \n",
              "3                 20             1/2 hour   \n",
              "4                900           15 minutes   \n",
              "\n",
              "                                            comments date posted    latitude  \\\n",
              "0  This event took place in early fall around 194...   4/27/2004  29.8830556   \n",
              "1  1949 Lackland AFB&#44 TX.  Lights racing acros...  12/16/2005    29.38421   \n",
              "2  Green/Orange circular disc over Chester&#44 En...   1/21/2008        53.2   \n",
              "3  My older brother and twin sister were leaving ...   1/17/2004  28.9783333   \n",
              "4  AS a Marine 1st Lt. flying an FJ4B fighter/att...   1/22/2004  21.4180556   \n",
              "\n",
              "    longitude  \n",
              "0  -97.941111  \n",
              "1  -98.581082  \n",
              "2   -2.916667  \n",
              "3  -96.645833  \n",
              "4 -157.803611  "
            ],
            "text/html": [
              "\n",
              "  <div id=\"df-66abf87b-dcfb-46ba-b803-52f7a2a09698\">\n",
              "    <div class=\"colab-df-container\">\n",
              "      <div>\n",
              "<style scoped>\n",
              "    .dataframe tbody tr th:only-of-type {\n",
              "        vertical-align: middle;\n",
              "    }\n",
              "\n",
              "    .dataframe tbody tr th {\n",
              "        vertical-align: top;\n",
              "    }\n",
              "\n",
              "    .dataframe thead th {\n",
              "        text-align: right;\n",
              "    }\n",
              "</style>\n",
              "<table border=\"1\" class=\"dataframe\">\n",
              "  <thead>\n",
              "    <tr style=\"text-align: right;\">\n",
              "      <th></th>\n",
              "      <th>datetime</th>\n",
              "      <th>city</th>\n",
              "      <th>state</th>\n",
              "      <th>country</th>\n",
              "      <th>shape</th>\n",
              "      <th>duration (seconds)</th>\n",
              "      <th>duration (hours/min)</th>\n",
              "      <th>comments</th>\n",
              "      <th>date posted</th>\n",
              "      <th>latitude</th>\n",
              "      <th>longitude</th>\n",
              "    </tr>\n",
              "  </thead>\n",
              "  <tbody>\n",
              "    <tr>\n",
              "      <th>0</th>\n",
              "      <td>10/10/1949 20:30</td>\n",
              "      <td>san marcos</td>\n",
              "      <td>tx</td>\n",
              "      <td>us</td>\n",
              "      <td>cylinder</td>\n",
              "      <td>2700</td>\n",
              "      <td>45 minutes</td>\n",
              "      <td>This event took place in early fall around 194...</td>\n",
              "      <td>4/27/2004</td>\n",
              "      <td>29.8830556</td>\n",
              "      <td>-97.941111</td>\n",
              "    </tr>\n",
              "    <tr>\n",
              "      <th>1</th>\n",
              "      <td>10/10/1949 21:00</td>\n",
              "      <td>lackland afb</td>\n",
              "      <td>tx</td>\n",
              "      <td>NaN</td>\n",
              "      <td>light</td>\n",
              "      <td>7200</td>\n",
              "      <td>1-2 hrs</td>\n",
              "      <td>1949 Lackland AFB&amp;#44 TX.  Lights racing acros...</td>\n",
              "      <td>12/16/2005</td>\n",
              "      <td>29.38421</td>\n",
              "      <td>-98.581082</td>\n",
              "    </tr>\n",
              "    <tr>\n",
              "      <th>2</th>\n",
              "      <td>10/10/1955 17:00</td>\n",
              "      <td>chester (uk/england)</td>\n",
              "      <td>NaN</td>\n",
              "      <td>gb</td>\n",
              "      <td>circle</td>\n",
              "      <td>20</td>\n",
              "      <td>20 seconds</td>\n",
              "      <td>Green/Orange circular disc over Chester&amp;#44 En...</td>\n",
              "      <td>1/21/2008</td>\n",
              "      <td>53.2</td>\n",
              "      <td>-2.916667</td>\n",
              "    </tr>\n",
              "    <tr>\n",
              "      <th>3</th>\n",
              "      <td>10/10/1956 21:00</td>\n",
              "      <td>edna</td>\n",
              "      <td>tx</td>\n",
              "      <td>us</td>\n",
              "      <td>circle</td>\n",
              "      <td>20</td>\n",
              "      <td>1/2 hour</td>\n",
              "      <td>My older brother and twin sister were leaving ...</td>\n",
              "      <td>1/17/2004</td>\n",
              "      <td>28.9783333</td>\n",
              "      <td>-96.645833</td>\n",
              "    </tr>\n",
              "    <tr>\n",
              "      <th>4</th>\n",
              "      <td>10/10/1960 20:00</td>\n",
              "      <td>kaneohe</td>\n",
              "      <td>hi</td>\n",
              "      <td>us</td>\n",
              "      <td>light</td>\n",
              "      <td>900</td>\n",
              "      <td>15 minutes</td>\n",
              "      <td>AS a Marine 1st Lt. flying an FJ4B fighter/att...</td>\n",
              "      <td>1/22/2004</td>\n",
              "      <td>21.4180556</td>\n",
              "      <td>-157.803611</td>\n",
              "    </tr>\n",
              "  </tbody>\n",
              "</table>\n",
              "</div>\n",
              "      <button class=\"colab-df-convert\" onclick=\"convertToInteractive('df-66abf87b-dcfb-46ba-b803-52f7a2a09698')\"\n",
              "              title=\"Convert this dataframe to an interactive table.\"\n",
              "              style=\"display:none;\">\n",
              "        \n",
              "  <svg xmlns=\"http://www.w3.org/2000/svg\" height=\"24px\"viewBox=\"0 0 24 24\"\n",
              "       width=\"24px\">\n",
              "    <path d=\"M0 0h24v24H0V0z\" fill=\"none\"/>\n",
              "    <path d=\"M18.56 5.44l.94 2.06.94-2.06 2.06-.94-2.06-.94-.94-2.06-.94 2.06-2.06.94zm-11 1L8.5 8.5l.94-2.06 2.06-.94-2.06-.94L8.5 2.5l-.94 2.06-2.06.94zm10 10l.94 2.06.94-2.06 2.06-.94-2.06-.94-.94-2.06-.94 2.06-2.06.94z\"/><path d=\"M17.41 7.96l-1.37-1.37c-.4-.4-.92-.59-1.43-.59-.52 0-1.04.2-1.43.59L10.3 9.45l-7.72 7.72c-.78.78-.78 2.05 0 2.83L4 21.41c.39.39.9.59 1.41.59.51 0 1.02-.2 1.41-.59l7.78-7.78 2.81-2.81c.8-.78.8-2.07 0-2.86zM5.41 20L4 18.59l7.72-7.72 1.47 1.35L5.41 20z\"/>\n",
              "  </svg>\n",
              "      </button>\n",
              "      \n",
              "  <style>\n",
              "    .colab-df-container {\n",
              "      display:flex;\n",
              "      flex-wrap:wrap;\n",
              "      gap: 12px;\n",
              "    }\n",
              "\n",
              "    .colab-df-convert {\n",
              "      background-color: #E8F0FE;\n",
              "      border: none;\n",
              "      border-radius: 50%;\n",
              "      cursor: pointer;\n",
              "      display: none;\n",
              "      fill: #1967D2;\n",
              "      height: 32px;\n",
              "      padding: 0 0 0 0;\n",
              "      width: 32px;\n",
              "    }\n",
              "\n",
              "    .colab-df-convert:hover {\n",
              "      background-color: #E2EBFA;\n",
              "      box-shadow: 0px 1px 2px rgba(60, 64, 67, 0.3), 0px 1px 3px 1px rgba(60, 64, 67, 0.15);\n",
              "      fill: #174EA6;\n",
              "    }\n",
              "\n",
              "    [theme=dark] .colab-df-convert {\n",
              "      background-color: #3B4455;\n",
              "      fill: #D2E3FC;\n",
              "    }\n",
              "\n",
              "    [theme=dark] .colab-df-convert:hover {\n",
              "      background-color: #434B5C;\n",
              "      box-shadow: 0px 1px 3px 1px rgba(0, 0, 0, 0.15);\n",
              "      filter: drop-shadow(0px 1px 2px rgba(0, 0, 0, 0.3));\n",
              "      fill: #FFFFFF;\n",
              "    }\n",
              "  </style>\n",
              "\n",
              "      <script>\n",
              "        const buttonEl =\n",
              "          document.querySelector('#df-66abf87b-dcfb-46ba-b803-52f7a2a09698 button.colab-df-convert');\n",
              "        buttonEl.style.display =\n",
              "          google.colab.kernel.accessAllowed ? 'block' : 'none';\n",
              "\n",
              "        async function convertToInteractive(key) {\n",
              "          const element = document.querySelector('#df-66abf87b-dcfb-46ba-b803-52f7a2a09698');\n",
              "          const dataTable =\n",
              "            await google.colab.kernel.invokeFunction('convertToInteractive',\n",
              "                                                     [key], {});\n",
              "          if (!dataTable) return;\n",
              "\n",
              "          const docLinkHtml = 'Like what you see? Visit the ' +\n",
              "            '<a target=\"_blank\" href=https://colab.research.google.com/notebooks/data_table.ipynb>data table notebook</a>'\n",
              "            + ' to learn more about interactive tables.';\n",
              "          element.innerHTML = '';\n",
              "          dataTable['output_type'] = 'display_data';\n",
              "          await google.colab.output.renderOutput(dataTable, element);\n",
              "          const docLink = document.createElement('div');\n",
              "          docLink.innerHTML = docLinkHtml;\n",
              "          element.appendChild(docLink);\n",
              "        }\n",
              "      </script>\n",
              "    </div>\n",
              "  </div>\n",
              "  "
            ]
          },
          "metadata": {},
          "execution_count": 3
        }
      ]
    },
    {
      "cell_type": "markdown",
      "source": [
        "## Verificar se há valores faltantes\n",
        "O Python representa valores faltantes como NaN.\n",
        "\n",
        "Vamos ver se encontramos valores assim nos dados."
      ],
      "metadata": {
        "id": "aCD2nZCQ0V4T"
      }
    },
    {
      "cell_type": "markdown",
      "source": [
        "Para que possamos verificar se existem valores faltantes (NaN) no data set,\n",
        "utilizamos o método isnull(), que retorna True ou False para cada célula.\n",
        "Porém, seria inviável vermos se todos os valores correspondem a True ou False.\n",
        "Para facilitar nosso trabalho, podemos somar estes resultados utilizando \n",
        "o método sum()."
      ],
      "metadata": {
        "id": "_X7iPuCbBLpR"
      }
    },
    {
      "cell_type": "code",
      "source": [
        "ufo_data.isnull().sum()"
      ],
      "metadata": {
        "colab": {
          "base_uri": "https://localhost:8080/"
        },
        "id": "bM_Z2yXu0Lhi",
        "outputId": "b5686ade-d0d5-440e-99fb-457991ad0a3d"
      },
      "execution_count": 4,
      "outputs": [
        {
          "output_type": "execute_result",
          "data": {
            "text/plain": [
              "datetime                    0\n",
              "city                        0\n",
              "state                    7409\n",
              "country                 12365\n",
              "shape                    2922\n",
              "duration (seconds)          2\n",
              "duration (hours/min)     3019\n",
              "comments                   35\n",
              "date posted                 0\n",
              "latitude                    0\n",
              "longitude                   0\n",
              "dtype: int64"
            ]
          },
          "metadata": {},
          "execution_count": 4
        }
      ]
    },
    {
      "cell_type": "markdown",
      "source": [
        "Podemos ver que 4 atributos se destacam, entre eles estão state, country, shape e duration (hours/min). \n",
        "\n",
        "Vamos vê-los de forma gráfica.\n"
      ],
      "metadata": {
        "id": "-aqYjiFW0l3W"
      }
    },
    {
      "cell_type": "code",
      "source": [
        "ufo_data.groupby(['state']).size()"
      ],
      "metadata": {
        "colab": {
          "base_uri": "https://localhost:8080/"
        },
        "id": "4GkgdD6f99Oq",
        "outputId": "e3eed6b7-bf8c-47d7-bf7a-3f95a036acf3"
      },
      "execution_count": 5,
      "outputs": [
        {
          "output_type": "execute_result",
          "data": {
            "text/plain": [
              "state\n",
              "ab     374\n",
              "ak     395\n",
              "al     763\n",
              "ar     732\n",
              "az    2938\n",
              "      ... \n",
              "wi    1426\n",
              "wv     539\n",
              "wy     228\n",
              "yk       7\n",
              "yt      14\n",
              "Length: 68, dtype: int64"
            ]
          },
          "metadata": {},
          "execution_count": 5
        }
      ]
    },
    {
      "cell_type": "code",
      "source": [
        "ufo_data['state'].value_counts().plot.bar(figsize=(20,5))"
      ],
      "metadata": {
        "colab": {
          "base_uri": "https://localhost:8080/",
          "height": 284
        },
        "id": "g-LHvzhU4anM",
        "outputId": "b6aab75b-2e46-43cb-8a6c-10a49515732a"
      },
      "execution_count": 6,
      "outputs": [
        {
          "output_type": "execute_result",
          "data": {
            "text/plain": [
              "<matplotlib.axes._subplots.AxesSubplot at 0x7f3c7bb9cf90>"
            ]
          },
          "metadata": {},
          "execution_count": 6
        },
        {
          "output_type": "display_data",
          "data": {
            "text/plain": [
              "<Figure size 1440x360 with 1 Axes>"
            ],
            "image/png": "[encoded data removed]"
          },
          "metadata": {
            "needs_background": "light"
          }
        }
      ]
    },
    {
      "cell_type": "markdown",
      "source": [
        "Podemos ver que o estado em que mais registraram aparições foi a California."
      ],
      "metadata": {
        "id": "BcMt2Z9b54RY"
      }
    },
    {
      "cell_type": "code",
      "source": [
        "ufo_data.groupby(['country']).size()"
      ],
      "metadata": {
        "colab": {
          "base_uri": "https://localhost:8080/"
        },
        "id": "LGmiuVK8-LJn",
        "outputId": "a0e8efa2-b26a-455a-f854-b45ed4d7704e"
      },
      "execution_count": 7,
      "outputs": [
        {
          "output_type": "execute_result",
          "data": {
            "text/plain": [
              "country\n",
              "au      593\n",
              "ca     3266\n",
              "de      112\n",
              "gb     2050\n",
              "us    70293\n",
              "dtype: int64"
            ]
          },
          "metadata": {},
          "execution_count": 7
        }
      ]
    },
    {
      "cell_type": "code",
      "source": [
        "ufo_data['country'].value_counts().plot.bar(figsize=(6,5))"
      ],
      "metadata": {
        "colab": {
          "base_uri": "https://localhost:8080/",
          "height": 339
        },
        "id": "grVziFBA6I5i",
        "outputId": "914b9415-0ddb-4fd3-bb1c-20e6c53801fb"
      },
      "execution_count": 8,
      "outputs": [
        {
          "output_type": "execute_result",
          "data": {
            "text/plain": [
              "<matplotlib.axes._subplots.AxesSubplot at 0x7f3c7b480050>"
            ]
          },
          "metadata": {},
          "execution_count": 8
        },
        {
          "output_type": "display_data",
          "data": {
            "text/plain": [
              "<Figure size 432x360 with 1 Axes>"
            ],
            "image/png": "[encoded data removed]"
          },
          "metadata": {
            "needs_background": "light"
          }
        }
      ]
    },
    {
      "cell_type": "markdown",
      "source": [
        "Podemos ver que o país em que mais registraram aparições foi a Estados Unidos, disparado."
      ],
      "metadata": {
        "id": "5bv9edBd6QgV"
      }
    },
    {
      "cell_type": "code",
      "source": [
        "ufo_data.groupby(['shape']).size()"
      ],
      "metadata": {
        "colab": {
          "base_uri": "https://localhost:8080/"
        },
        "id": "vi6Vvnoz-U2c",
        "outputId": "796a6ae3-213c-430a-8cae-1c5684500f81"
      },
      "execution_count": 9,
      "outputs": [
        {
          "output_type": "execute_result",
          "data": {
            "text/plain": [
              "shape\n",
              "changed          1\n",
              "changing      2140\n",
              "chevron       1007\n",
              "cigar         2241\n",
              "circle        8453\n",
              "cone           367\n",
              "crescent         2\n",
              "cross          265\n",
              "cylinder      1382\n",
              "delta            8\n",
              "diamond       1308\n",
              "disk          6005\n",
              "dome             1\n",
              "egg            845\n",
              "fireball      6562\n",
              "flare            1\n",
              "flash         1472\n",
              "formation     2657\n",
              "hexagon          1\n",
              "light        17872\n",
              "other         6247\n",
              "oval          4119\n",
              "pyramid          1\n",
              "rectangle     1418\n",
              "round            2\n",
              "sphere        5755\n",
              "teardrop       817\n",
              "triangle      8489\n",
              "unknown       6319\n",
              "dtype: int64"
            ]
          },
          "metadata": {},
          "execution_count": 9
        }
      ]
    },
    {
      "cell_type": "code",
      "source": [
        "ufo_data['shape'].value_counts().plot.bar(figsize=(10,5))"
      ],
      "metadata": {
        "colab": {
          "base_uri": "https://localhost:8080/",
          "height": 375
        },
        "id": "WIekPQDf4oBC",
        "outputId": "83038339-768c-4aec-aa65-0d32a166cb50"
      },
      "execution_count": 10,
      "outputs": [
        {
          "output_type": "execute_result",
          "data": {
            "text/plain": [
              "<matplotlib.axes._subplots.AxesSubplot at 0x7f3c7b4733d0>"
            ]
          },
          "metadata": {},
          "execution_count": 10
        },
        {
          "output_type": "display_data",
          "data": {
            "text/plain": [
              "<Figure size 720x360 with 1 Axes>"
            ],
            "image/png": "[encoded data removed]"
          },
          "metadata": {
            "needs_background": "light"
          }
        }
      ]
    },
    {
      "cell_type": "markdown",
      "source": [
        "Podemos ver que o formato que mais foi visto é o de luz, seguido por triângulo."
      ],
      "metadata": {
        "id": "J3SYFyeQ6d_Y"
      }
    },
    {
      "cell_type": "markdown",
      "source": [
        "## Tratar tipos de dados errados"
      ],
      "metadata": {
        "id": "3zaQC7_0BFFV"
      }
    },
    {
      "cell_type": "code",
      "source": [
        "ufo_subcols = ['datetime', 'city', 'state', 'country', 'shape', 'duration (seconds)',\n",
        "        'comments', 'date posted', 'latitude',\n",
        "       'longitude ']\n",
        "\n",
        "ufo_data = pd.DataFrame(data=ufo_data, columns=ufo_subcols)\n",
        "\n",
        "# dropar valores null\n",
        "ufo_data = ufo_data.dropna(thresh=8)\n",
        "\n",
        "# reiniciar os indices\n",
        "ufo_data = ufo_data.reset_index(drop=True)\n",
        "\n",
        "# EXTRACT LATITUDES #\n",
        "ufo_data['latitude'] = pd.to_numeric(ufo_data['latitude'],errors = 'coerce')  # latitudes as numerics\n",
        "ufo_data['longitude '] = pd.to_numeric(ufo_data['longitude '], errors='coerce')\n",
        "\n",
        "# CHANGE VARIABLES UFO_DATE IN SCRIPT 1-1-18\n",
        "ufo_date = ufo_data.datetime.str.replace('24:00', '00:00')  # clean illegal values\n",
        "ufo_date = pd.to_datetime(ufo_date, format='%m/%d/%Y %H:%M')  # now in datetime\n",
        "\n",
        "ufo_data['datetime'] = ufo_data.datetime.str.replace('24:00', '00:00')\n",
        "ufo_data['datetime'] = pd.to_datetime(ufo_data['datetime'], format='%m/%d/%Y %H:%M')"
      ],
      "metadata": {
        "id": "04JnuczvFK9L"
      },
      "execution_count": 11,
      "outputs": []
    },
    {
      "cell_type": "markdown",
      "source": [
        "## Frequência de avistamento de OVNIs (1949 - 2013)"
      ],
      "metadata": {
        "id": "gEB56RUyDc2I"
      }
    },
    {
      "cell_type": "code",
      "source": [
        "ufo_yr = ufo_date.dt.year  # somente o ano\n",
        "\n",
        "years_data = ufo_yr.value_counts()\n",
        "years_index = years_data.index  \n",
        "years_values = years_data.to_numpy()\n",
        "\n",
        "plt.figure(figsize=(15,8))\n",
        "plt.xticks(rotation = 60)\n",
        "plt.title('UFO Sightings by Year')\n",
        "\n",
        "years_plot = sns.barplot(x=years_index[:60],y=years_values[:60], palette = \"GnBu\")"
      ],
      "metadata": {
        "colab": {
          "base_uri": "https://localhost:8080/",
          "height": 516
        },
        "id": "e2kXOF47DkDa",
        "outputId": "077f4a87-0a34-4824-a885-db10e1751056"
      },
      "execution_count": 12,
      "outputs": [
        {
          "output_type": "display_data",
          "data": {
            "text/plain": [
              "<Figure size 1080x576 with 1 Axes>"
            ],
            "image/png": "[encoded data removed]"
          },
          "metadata": {
            "needs_background": "light"
          }
        }
      ]
    },
    {
      "cell_type": "markdown",
      "source": [
        "## Em qual época mais ocorre avistamento?"
      ],
      "metadata": {
        "id": "01hwuzaAIMYy"
      }
    },
    {
      "cell_type": "code",
      "source": [
        "m_cts = (ufo_data['datetime'].dt.month.value_counts()).sort_index()\n",
        "m_ctsx = m_cts.index\n",
        "m_ctsy = m_cts.to_numpy()\n",
        "f, ax = plt.subplots(figsize=(15,8))\n",
        "\n",
        "sns.barplot(x=m_ctsx, y=m_ctsy, palette=\"YlGnBu\")\n",
        "ax.set_title('Avistamento global por mês')\n",
        "ax.set_xlabel('Mês')\n",
        "ax.set_ylabel('# Avistamentos')\n",
        "plt.xticks(rotation=45)\n",
        "plt.show()"
      ],
      "metadata": {
        "colab": {
          "base_uri": "https://localhost:8080/",
          "height": 519
        },
        "id": "DM7IOoN4HGJw",
        "outputId": "49047b78-1d40-4db4-93ba-3221cf10f516"
      },
      "execution_count": 15,
      "outputs": [
        {
          "output_type": "display_data",
          "data": {
            "text/plain": [
              "<Figure size 1080x576 with 1 Axes>"
            ],
            "image/png": "[encoded data removed]"
          },
          "metadata": {
            "needs_background": "light"
          }
        }
      ]
    },
    {
      "cell_type": "code",
      "source": [
        ""
      ],
      "metadata": {
        "id": "JiRgbQ_DIbPQ"
      },
      "execution_count": null,
      "outputs": []
    }
  ]
}