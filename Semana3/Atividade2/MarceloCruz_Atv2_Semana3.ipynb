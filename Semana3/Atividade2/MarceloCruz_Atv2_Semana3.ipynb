{
  "nbformat": 4,
  "nbformat_minor": 0,
  "metadata": {
    "colab": {
      "name": "MarceloCruz-Atv2-Semana3.ipynb",
      "provenance": []
    },
    "kernelspec": {
      "name": "python3",
      "display_name": "Python 3"
    },
    "language_info": {
      "name": "python"
    }
  },
  "cells": [
    {
      "cell_type": "markdown",
      "source": [
        "# Semana 3 - Atividade 2 - Marcelo Cruz\n",
        "\n",
        "https://www.kaggle.com/datasets/zusmani/uberdrives"
      ],
      "metadata": {
        "id": "-li9VHO_3sX4"
      }
    },
    {
      "cell_type": "markdown",
      "source": [
        "### Importar bibliotecas"
      ],
      "metadata": {
        "id": "SZEQUC_j53-8"
      }
    },
    {
      "cell_type": "code",
      "execution_count": 1,
      "metadata": {
        "id": "jlgczF423qZx"
      },
      "outputs": [],
      "source": [
        "import pandas as pd # utilizado para ler e analisar os dados\n",
        "import numpy as np # utilizado para manipular os dados\n",
        "import matplotlib.pyplot as plt # utilizada para visualização dos dados\n",
        "import seaborn as sns # utilizada para visualização dos dados\n",
        "import datetime # utilizada para tratar com datas\n",
        "import calendar"
      ]
    },
    {
      "cell_type": "markdown",
      "source": [
        "### Carregar os dados"
      ],
      "metadata": {
        "id": "S_-xDTuO6ISU"
      }
    },
    {
      "cell_type": "markdown",
      "source": [
        "Para ler um arquivo csv, utilizamos o método read_csv, da biblioteca Pandas."
      ],
      "metadata": {
        "id": "y8JJ20VnBTcp"
      }
    },
    {
      "cell_type": "code",
      "source": [
        "data = pd.read_csv('/content/uberdata.csv')"
      ],
      "metadata": {
        "id": "LQpb3tpZ5Ay5"
      },
      "execution_count": 2,
      "outputs": []
    },
    {
      "cell_type": "markdown",
      "source": [
        "### Breve olhada nos dados"
      ],
      "metadata": {
        "id": "ArcGmsqH6lIT"
      }
    },
    {
      "cell_type": "markdown",
      "source": [
        "Primeiro, vamos ver quantas linhas e quantas colunas nosso data set possui."
      ],
      "metadata": {
        "id": "3db4KWFJB3j3"
      }
    },
    {
      "cell_type": "code",
      "source": [
        "data.shape"
      ],
      "metadata": {
        "colab": {
          "base_uri": "https://localhost:8080/"
        },
        "id": "g87DU-jvBmdk",
        "outputId": "b3cc6bcf-740c-4140-a4fa-ae5c32d6ed7e"
      },
      "execution_count": 3,
      "outputs": [
        {
          "output_type": "execute_result",
          "data": {
            "text/plain": [
              "(1156, 7)"
            ]
          },
          "metadata": {},
          "execution_count": 3
        }
      ]
    },
    {
      "cell_type": "markdown",
      "source": [
        "Quando desejamos ver apenas uma pequena amostra dos dados, podemos utilizar o\n",
        "método head(), que mostrará os primeiro 5 registros do data set."
      ],
      "metadata": {
        "id": "PuV0rM9QBQZq"
      }
    },
    {
      "cell_type": "code",
      "source": [
        "data.head()"
      ],
      "metadata": {
        "colab": {
          "base_uri": "https://localhost:8080/",
          "height": 206
        },
        "id": "l880oN9x6TWN",
        "outputId": "8254f1a1-3865-4101-f32b-8bf672fa923f"
      },
      "execution_count": 4,
      "outputs": [
        {
          "output_type": "execute_result",
          "data": {
            "text/plain": [
              "      START_DATE*       END_DATE* CATEGORY*       START*            STOP*  \\\n",
              "0  1/1/2016 21:11  1/1/2016 21:17  Business  Fort Pierce      Fort Pierce   \n",
              "1   1/2/2016 1:25   1/2/2016 1:37  Business  Fort Pierce      Fort Pierce   \n",
              "2  1/2/2016 20:25  1/2/2016 20:38  Business  Fort Pierce      Fort Pierce   \n",
              "3  1/5/2016 17:31  1/5/2016 17:45  Business  Fort Pierce      Fort Pierce   \n",
              "4  1/6/2016 14:42  1/6/2016 15:49  Business  Fort Pierce  West Palm Beach   \n",
              "\n",
              "   MILES*         PURPOSE*  \n",
              "0     5.1   Meal/Entertain  \n",
              "1     5.0              NaN  \n",
              "2     4.8  Errand/Supplies  \n",
              "3     4.7          Meeting  \n",
              "4    63.7   Customer Visit  "
            ],
            "text/html": [
              "\n",
              "  <div id=\"df-ad1b378b-0626-4293-b097-00f2e204979c\">\n",
              "    <div class=\"colab-df-container\">\n",
              "      <div>\n",
              "<style scoped>\n",
              "    .dataframe tbody tr th:only-of-type {\n",
              "        vertical-align: middle;\n",
              "    }\n",
              "\n",
              "    .dataframe tbody tr th {\n",
              "        vertical-align: top;\n",
              "    }\n",
              "\n",
              "    .dataframe thead th {\n",
              "        text-align: right;\n",
              "    }\n",
              "</style>\n",
              "<table border=\"1\" class=\"dataframe\">\n",
              "  <thead>\n",
              "    <tr style=\"text-align: right;\">\n",
              "      <th></th>\n",
              "      <th>START_DATE*</th>\n",
              "      <th>END_DATE*</th>\n",
              "      <th>CATEGORY*</th>\n",
              "      <th>START*</th>\n",
              "      <th>STOP*</th>\n",
              "      <th>MILES*</th>\n",
              "      <th>PURPOSE*</th>\n",
              "    </tr>\n",
              "  </thead>\n",
              "  <tbody>\n",
              "    <tr>\n",
              "      <th>0</th>\n",
              "      <td>1/1/2016 21:11</td>\n",
              "      <td>1/1/2016 21:17</td>\n",
              "      <td>Business</td>\n",
              "      <td>Fort Pierce</td>\n",
              "      <td>Fort Pierce</td>\n",
              "      <td>5.1</td>\n",
              "      <td>Meal/Entertain</td>\n",
              "    </tr>\n",
              "    <tr>\n",
              "      <th>1</th>\n",
              "      <td>1/2/2016 1:25</td>\n",
              "      <td>1/2/2016 1:37</td>\n",
              "      <td>Business</td>\n",
              "      <td>Fort Pierce</td>\n",
              "      <td>Fort Pierce</td>\n",
              "      <td>5.0</td>\n",
              "      <td>NaN</td>\n",
              "    </tr>\n",
              "    <tr>\n",
              "      <th>2</th>\n",
              "      <td>1/2/2016 20:25</td>\n",
              "      <td>1/2/2016 20:38</td>\n",
              "      <td>Business</td>\n",
              "      <td>Fort Pierce</td>\n",
              "      <td>Fort Pierce</td>\n",
              "      <td>4.8</td>\n",
              "      <td>Errand/Supplies</td>\n",
              "    </tr>\n",
              "    <tr>\n",
              "      <th>3</th>\n",
              "      <td>1/5/2016 17:31</td>\n",
              "      <td>1/5/2016 17:45</td>\n",
              "      <td>Business</td>\n",
              "      <td>Fort Pierce</td>\n",
              "      <td>Fort Pierce</td>\n",
              "      <td>4.7</td>\n",
              "      <td>Meeting</td>\n",
              "    </tr>\n",
              "    <tr>\n",
              "      <th>4</th>\n",
              "      <td>1/6/2016 14:42</td>\n",
              "      <td>1/6/2016 15:49</td>\n",
              "      <td>Business</td>\n",
              "      <td>Fort Pierce</td>\n",
              "      <td>West Palm Beach</td>\n",
              "      <td>63.7</td>\n",
              "      <td>Customer Visit</td>\n",
              "    </tr>\n",
              "  </tbody>\n",
              "</table>\n",
              "</div>\n",
              "      <button class=\"colab-df-convert\" onclick=\"convertToInteractive('df-ad1b378b-0626-4293-b097-00f2e204979c')\"\n",
              "              title=\"Convert this dataframe to an interactive table.\"\n",
              "              style=\"display:none;\">\n",
              "        \n",
              "  <svg xmlns=\"http://www.w3.org/2000/svg\" height=\"24px\"viewBox=\"0 0 24 24\"\n",
              "       width=\"24px\">\n",
              "    <path d=\"M0 0h24v24H0V0z\" fill=\"none\"/>\n",
              "    <path d=\"M18.56 5.44l.94 2.06.94-2.06 2.06-.94-2.06-.94-.94-2.06-.94 2.06-2.06.94zm-11 1L8.5 8.5l.94-2.06 2.06-.94-2.06-.94L8.5 2.5l-.94 2.06-2.06.94zm10 10l.94 2.06.94-2.06 2.06-.94-2.06-.94-.94-2.06-.94 2.06-2.06.94z\"/><path d=\"M17.41 7.96l-1.37-1.37c-.4-.4-.92-.59-1.43-.59-.52 0-1.04.2-1.43.59L10.3 9.45l-7.72 7.72c-.78.78-.78 2.05 0 2.83L4 21.41c.39.39.9.59 1.41.59.51 0 1.02-.2 1.41-.59l7.78-7.78 2.81-2.81c.8-.78.8-2.07 0-2.86zM5.41 20L4 18.59l7.72-7.72 1.47 1.35L5.41 20z\"/>\n",
              "  </svg>\n",
              "      </button>\n",
              "      \n",
              "  <style>\n",
              "    .colab-df-container {\n",
              "      display:flex;\n",
              "      flex-wrap:wrap;\n",
              "      gap: 12px;\n",
              "    }\n",
              "\n",
              "    .colab-df-convert {\n",
              "      background-color: #E8F0FE;\n",
              "      border: none;\n",
              "      border-radius: 50%;\n",
              "      cursor: pointer;\n",
              "      display: none;\n",
              "      fill: #1967D2;\n",
              "      height: 32px;\n",
              "      padding: 0 0 0 0;\n",
              "      width: 32px;\n",
              "    }\n",
              "\n",
              "    .colab-df-convert:hover {\n",
              "      background-color: #E2EBFA;\n",
              "      box-shadow: 0px 1px 2px rgba(60, 64, 67, 0.3), 0px 1px 3px 1px rgba(60, 64, 67, 0.15);\n",
              "      fill: #174EA6;\n",
              "    }\n",
              "\n",
              "    [theme=dark] .colab-df-convert {\n",
              "      background-color: #3B4455;\n",
              "      fill: #D2E3FC;\n",
              "    }\n",
              "\n",
              "    [theme=dark] .colab-df-convert:hover {\n",
              "      background-color: #434B5C;\n",
              "      box-shadow: 0px 1px 3px 1px rgba(0, 0, 0, 0.15);\n",
              "      filter: drop-shadow(0px 1px 2px rgba(0, 0, 0, 0.3));\n",
              "      fill: #FFFFFF;\n",
              "    }\n",
              "  </style>\n",
              "\n",
              "      <script>\n",
              "        const buttonEl =\n",
              "          document.querySelector('#df-ad1b378b-0626-4293-b097-00f2e204979c button.colab-df-convert');\n",
              "        buttonEl.style.display =\n",
              "          google.colab.kernel.accessAllowed ? 'block' : 'none';\n",
              "\n",
              "        async function convertToInteractive(key) {\n",
              "          const element = document.querySelector('#df-ad1b378b-0626-4293-b097-00f2e204979c');\n",
              "          const dataTable =\n",
              "            await google.colab.kernel.invokeFunction('convertToInteractive',\n",
              "                                                     [key], {});\n",
              "          if (!dataTable) return;\n",
              "\n",
              "          const docLinkHtml = 'Like what you see? Visit the ' +\n",
              "            '<a target=\"_blank\" href=https://colab.research.google.com/notebooks/data_table.ipynb>data table notebook</a>'\n",
              "            + ' to learn more about interactive tables.';\n",
              "          element.innerHTML = '';\n",
              "          dataTable['output_type'] = 'display_data';\n",
              "          await google.colab.output.renderOutput(dataTable, element);\n",
              "          const docLink = document.createElement('div');\n",
              "          docLink.innerHTML = docLinkHtml;\n",
              "          element.appendChild(docLink);\n",
              "        }\n",
              "      </script>\n",
              "    </div>\n",
              "  </div>\n",
              "  "
            ]
          },
          "metadata": {},
          "execution_count": 4
        }
      ]
    },
    {
      "cell_type": "markdown",
      "source": [
        "### Verificar se há valores faltantes\n",
        "\n",
        "O Python representa valores faltantes como **NaN**.\n",
        "\n",
        "Vamos ver se encontramos valores assim nos dados."
      ],
      "metadata": {
        "id": "4T0wXtXR8ayR"
      }
    },
    {
      "cell_type": "markdown",
      "source": [
        "Para que possamos verificar se existem valores faltantes (NaN) no data set,\n",
        "utilizamos o método isnull(), que retorna True ou False para cada célula.\n",
        "Porém, seria inviável vermos se todos os valores correspondem a True ou False.\n",
        "Para facilitar nosso trabalho, podemos somar estes resultados utilizando \n",
        "o método sum()."
      ],
      "metadata": {
        "id": "_X7iPuCbBLpR"
      }
    },
    {
      "cell_type": "code",
      "source": [
        "data.isnull().sum()"
      ],
      "metadata": {
        "colab": {
          "base_uri": "https://localhost:8080/"
        },
        "id": "C0c9DSWt8OrZ",
        "outputId": "2efad36b-f9cf-4db4-99dc-5d81abf10bce"
      },
      "execution_count": 5,
      "outputs": [
        {
          "output_type": "execute_result",
          "data": {
            "text/plain": [
              "START_DATE*      0\n",
              "END_DATE*        1\n",
              "CATEGORY*        1\n",
              "START*           1\n",
              "STOP*            1\n",
              "MILES*           0\n",
              "PURPOSE*       503\n",
              "dtype: int64"
            ]
          },
          "metadata": {},
          "execution_count": 5
        }
      ]
    },
    {
      "cell_type": "markdown",
      "source": [
        "Podemos ver que o atributo PURPOSE é o pior de todos, pois contém 503 valores\n",
        "faltantes.\n",
        "\n",
        "O que podemos fazer para tratar isso?\n",
        "\n",
        "Poderíamos simplesmente deletar os registros que possuem valores faltantes, mas isso causaria a perda de muitos dados. Outra alternativa é substituirmos estes valores por outros já existentes.\n",
        "\n",
        "No caso do atributo PURPOSE, estamos lidando com uma variável categórica, ou seja, que podem assumir apenas alguns valores específicos. Para tratar este tipo de variável faltante, nós os substituimos pela moda, que seria o valor que mais aparece.\n",
        "\n",
        "Então, vamos descobrir qual é o valor que mais aparece no atributo PURPOSE.\n",
        "\n",
        "Podemos fazer isso olhando todos os valores que o atributo possui, utilizando o método value_counts()."
      ],
      "metadata": {
        "id": "L-cXlTQvBIWn"
      }
    },
    {
      "cell_type": "code",
      "source": [
        "data['PURPOSE*'].value_counts()"
      ],
      "metadata": {
        "colab": {
          "base_uri": "https://localhost:8080/"
        },
        "id": "kVu8BZeaBIrO",
        "outputId": "4f45a5e3-8b8c-4624-ff46-9943c4ff5e17"
      },
      "execution_count": 6,
      "outputs": [
        {
          "output_type": "execute_result",
          "data": {
            "text/plain": [
              "Meeting            187\n",
              "Meal/Entertain     160\n",
              "Errand/Supplies    128\n",
              "Customer Visit     101\n",
              "Temporary Site      50\n",
              "Between Offices     18\n",
              "Moving               4\n",
              "Airport/Travel       3\n",
              "Charity ($)          1\n",
              "Commute              1\n",
              "Name: PURPOSE*, dtype: int64"
            ]
          },
          "metadata": {},
          "execution_count": 6
        }
      ]
    },
    {
      "cell_type": "markdown",
      "source": [
        "Ou podemos ir direto ao ponto, utilizando o método mode() que, como você deve estar pensando, retorna a moda."
      ],
      "metadata": {
        "id": "CZeV-A5tFFKO"
      }
    },
    {
      "cell_type": "code",
      "source": [
        "data['PURPOSE*'].mode()"
      ],
      "metadata": {
        "colab": {
          "base_uri": "https://localhost:8080/"
        },
        "id": "jgkFzVKbE1Hq",
        "outputId": "abef2e54-ba98-43cf-80f1-43d3dbb5d40c"
      },
      "execution_count": 7,
      "outputs": [
        {
          "output_type": "execute_result",
          "data": {
            "text/plain": [
              "0    Meeting\n",
              "dtype: object"
            ]
          },
          "metadata": {},
          "execution_count": 7
        }
      ]
    },
    {
      "cell_type": "markdown",
      "source": [
        "Agora, chegou a hora de substituir os valores faltantes por Meeting."
      ],
      "metadata": {
        "id": "t7RVdNZVFQzZ"
      }
    },
    {
      "cell_type": "code",
      "source": [
        "#data['PURPOSE*'] = data['PURPOSE*'].fillna(data['PURPOSE*'].mode)\n",
        "# por algum motivo, esta mudança está causando o seguinte erro:\n",
        "# RecursionError: maximum recursion depth exceeded in comparison\n",
        "# por isso, ele foi comentado\n"
      ],
      "metadata": {
        "id": "eyvZDp6CDuJg"
      },
      "execution_count": 8,
      "outputs": []
    },
    {
      "cell_type": "markdown",
      "source": [
        "Vamos verificar a contagem dos valores faltantes novamente."
      ],
      "metadata": {
        "id": "q6RswO9XGRKf"
      }
    },
    {
      "cell_type": "code",
      "source": [
        "data.isnull().sum()"
      ],
      "metadata": {
        "colab": {
          "base_uri": "https://localhost:8080/"
        },
        "id": "UccCFCWfGMf_",
        "outputId": "869ceeb4-6f32-49be-c653-b5214bcf4073"
      },
      "execution_count": 9,
      "outputs": [
        {
          "output_type": "execute_result",
          "data": {
            "text/plain": [
              "START_DATE*      0\n",
              "END_DATE*        1\n",
              "CATEGORY*        1\n",
              "START*           1\n",
              "STOP*            1\n",
              "MILES*           0\n",
              "PURPOSE*       503\n",
              "dtype: int64"
            ]
          },
          "metadata": {},
          "execution_count": 9
        }
      ]
    },
    {
      "cell_type": "markdown",
      "source": [
        "Voilà! Não temos mais nenhum valor faltante no atributo PURPOSE.\n",
        "\n",
        "Para o restante dos valores, podemos dropar, pois não são significantes."
      ],
      "metadata": {
        "id": "vc_eF7a1GWV6"
      }
    },
    {
      "cell_type": "code",
      "source": [
        "data = data.dropna()\n",
        "data.isnull().sum()"
      ],
      "metadata": {
        "colab": {
          "base_uri": "https://localhost:8080/"
        },
        "id": "sJy1AN9XGQGo",
        "outputId": "544e9836-8687-43ed-f4a1-c4cb440f7ef0"
      },
      "execution_count": 10,
      "outputs": [
        {
          "output_type": "execute_result",
          "data": {
            "text/plain": [
              "START_DATE*    0\n",
              "END_DATE*      0\n",
              "CATEGORY*      0\n",
              "START*         0\n",
              "STOP*          0\n",
              "MILES*         0\n",
              "PURPOSE*       0\n",
              "dtype: int64"
            ]
          },
          "metadata": {},
          "execution_count": 10
        }
      ]
    },
    {
      "cell_type": "markdown",
      "source": [
        "## Atributos com tipo de dado correto\n"
      ],
      "metadata": {
        "id": "uErsrKptIExp"
      }
    },
    {
      "cell_type": "markdown",
      "source": [
        "\n",
        "Vamos verificar se os atributos do nosso data set estão no formato correto."
      ],
      "metadata": {
        "id": "ULa1qeRCIakH"
      }
    },
    {
      "cell_type": "code",
      "source": [
        "data.dtypes"
      ],
      "metadata": {
        "colab": {
          "base_uri": "https://localhost:8080/"
        },
        "id": "1vM8mJsVIMyi",
        "outputId": "92d667a0-5e33-4620-95e5-c867a90921f7"
      },
      "execution_count": 11,
      "outputs": [
        {
          "output_type": "execute_result",
          "data": {
            "text/plain": [
              "START_DATE*     object\n",
              "END_DATE*       object\n",
              "CATEGORY*       object\n",
              "START*          object\n",
              "STOP*           object\n",
              "MILES*         float64\n",
              "PURPOSE*        object\n",
              "dtype: object"
            ]
          },
          "metadata": {},
          "execution_count": 11
        }
      ]
    },
    {
      "cell_type": "markdown",
      "source": [
        "Logo podemos ver que os atributos START_DATE e END_DATE não estão no formato correto, pois deveriam estar no formato date.\n",
        "\n",
        "Vamos convertê-los para o tipo correto."
      ],
      "metadata": {
        "id": "m-P8DmFYIkVQ"
      }
    },
    {
      "cell_type": "code",
      "source": [
        "data['START_DATE*'] = pd.to_datetime(data['START_DATE*'], format='%m/%d/%Y %H:%M')\n",
        "data['END_DATE*'] = pd.to_datetime(data['END_DATE*'], format='%m/%d/%Y %H:%M')"
      ],
      "metadata": {
        "id": "SRugt1HxIcPG"
      },
      "execution_count": 12,
      "outputs": []
    },
    {
      "cell_type": "markdown",
      "source": [
        "Vamos ver os tipos novamente."
      ],
      "metadata": {
        "id": "cQuIN_OOJ4um"
      }
    },
    {
      "cell_type": "code",
      "source": [
        "data.dtypes"
      ],
      "metadata": {
        "colab": {
          "base_uri": "https://localhost:8080/"
        },
        "id": "BBr25iuLJqBN",
        "outputId": "492f53de-ceca-42bd-d0b9-152663f24d81"
      },
      "execution_count": 13,
      "outputs": [
        {
          "output_type": "execute_result",
          "data": {
            "text/plain": [
              "START_DATE*    datetime64[ns]\n",
              "END_DATE*      datetime64[ns]\n",
              "CATEGORY*              object\n",
              "START*                 object\n",
              "STOP*                  object\n",
              "MILES*                float64\n",
              "PURPOSE*               object\n",
              "dtype: object"
            ]
          },
          "metadata": {},
          "execution_count": 13
        }
      ]
    },
    {
      "cell_type": "markdown",
      "source": [
        "## Dividir os valores das datas"
      ],
      "metadata": {
        "id": "kbNqitahMKOK"
      }
    },
    {
      "cell_type": "markdown",
      "source": [
        "Para que possamos manusear as datas com mais facilidade, vamos separar a hora, o dia, o dia da semana, o mês e o nome dos dias das semana."
      ],
      "metadata": {
        "id": "073DbkJSMSWK"
      }
    },
    {
      "cell_type": "markdown",
      "source": [
        "Primeiro, vamos criar as variáveis onde iremos armazenar estes valores."
      ],
      "metadata": {
        "id": "Swgn1fFqMoe_"
      }
    },
    {
      "cell_type": "code",
      "source": [
        "hour = []\n",
        "day = []\n",
        "dayofweek = []\n",
        "month = []\n",
        "weekday = []"
      ],
      "metadata": {
        "id": "vlVeNc2UMP1-"
      },
      "execution_count": 14,
      "outputs": []
    },
    {
      "cell_type": "markdown",
      "source": [
        "Agora, vamos pegar todos estes valores do atributo START_DATE."
      ],
      "metadata": {
        "id": "k0s7718WOU0K"
      }
    },
    {
      "cell_type": "code",
      "source": [
        "for x in data['START_DATE*']:\n",
        "  hour.append(x.hour)\n",
        "  day.append(x.day)\n",
        "  dayofweek.append(x.dayofweek)\n",
        "  month.append(x.month)\n",
        "  weekday.append(calendar.day_name[dayofweek[-1]])"
      ],
      "metadata": {
        "id": "KumL_TeeNJAt"
      },
      "execution_count": 15,
      "outputs": []
    },
    {
      "cell_type": "markdown",
      "source": [
        "O próximo passo é criar os atributos correspondentes."
      ],
      "metadata": {
        "id": "Vi-7kSH9O8v4"
      }
    },
    {
      "cell_type": "code",
      "source": [
        "data['HOUR'] = hour\n",
        "data['DAY'] = day\n",
        "data['DAY OF WEEK'] = dayofweek\n",
        "data['MONTH'] = month\n",
        "data['WEEKDAY'] = weekday"
      ],
      "metadata": {
        "id": "sTNMi37FO6xj"
      },
      "execution_count": 25,
      "outputs": []
    },
    {
      "cell_type": "markdown",
      "source": [
        "Vamos ver como ficou."
      ],
      "metadata": {
        "id": "u56HZff5PQVY"
      }
    },
    {
      "cell_type": "code",
      "source": [
        "data.head()"
      ],
      "metadata": {
        "colab": {
          "base_uri": "https://localhost:8080/",
          "height": 206
        },
        "id": "3o293Xx3POIh",
        "outputId": "b6d15a36-c6e3-4c06-e1f0-e84fbc619666"
      },
      "execution_count": 29,
      "outputs": [
        {
          "output_type": "execute_result",
          "data": {
            "text/plain": [
              "          START_DATE*           END_DATE* CATEGORY*           START*  \\\n",
              "0 2016-01-01 21:11:00 2016-01-01 21:17:00  Business      Fort Pierce   \n",
              "2 2016-01-02 20:25:00 2016-01-02 20:38:00  Business      Fort Pierce   \n",
              "3 2016-01-05 17:31:00 2016-01-05 17:45:00  Business      Fort Pierce   \n",
              "4 2016-01-06 14:42:00 2016-01-06 15:49:00  Business      Fort Pierce   \n",
              "5 2016-01-06 17:15:00 2016-01-06 17:19:00  Business  West Palm Beach   \n",
              "\n",
              "             STOP*  MILES*         PURPOSE*  HOUR  DAY  DAY OF WEEK  MONTH  \\\n",
              "0      Fort Pierce     5.1   Meal/Entertain    21    1            4      1   \n",
              "2      Fort Pierce     4.8  Errand/Supplies    20    2            5      1   \n",
              "3      Fort Pierce     4.7          Meeting    17    5            1      1   \n",
              "4  West Palm Beach    63.7   Customer Visit    14    6            2      1   \n",
              "5  West Palm Beach     4.3   Meal/Entertain    17    6            2      1   \n",
              "\n",
              "     WEEKDAY  \n",
              "0     Friday  \n",
              "2   Saturday  \n",
              "3    Tuesday  \n",
              "4  Wednesday  \n",
              "5  Wednesday  "
            ],
            "text/html": [
              "\n",
              "  <div id=\"df-d2cf4248-c69a-4177-9ffb-1e62401dc56e\">\n",
              "    <div class=\"colab-df-container\">\n",
              "      <div>\n",
              "<style scoped>\n",
              "    .dataframe tbody tr th:only-of-type {\n",
              "        vertical-align: middle;\n",
              "    }\n",
              "\n",
              "    .dataframe tbody tr th {\n",
              "        vertical-align: top;\n",
              "    }\n",
              "\n",
              "    .dataframe thead th {\n",
              "        text-align: right;\n",
              "    }\n",
              "</style>\n",
              "<table border=\"1\" class=\"dataframe\">\n",
              "  <thead>\n",
              "    <tr style=\"text-align: right;\">\n",
              "      <th></th>\n",
              "      <th>START_DATE*</th>\n",
              "      <th>END_DATE*</th>\n",
              "      <th>CATEGORY*</th>\n",
              "      <th>START*</th>\n",
              "      <th>STOP*</th>\n",
              "      <th>MILES*</th>\n",
              "      <th>PURPOSE*</th>\n",
              "      <th>HOUR</th>\n",
              "      <th>DAY</th>\n",
              "      <th>DAY OF WEEK</th>\n",
              "      <th>MONTH</th>\n",
              "      <th>WEEKDAY</th>\n",
              "    </tr>\n",
              "  </thead>\n",
              "  <tbody>\n",
              "    <tr>\n",
              "      <th>0</th>\n",
              "      <td>2016-01-01 21:11:00</td>\n",
              "      <td>2016-01-01 21:17:00</td>\n",
              "      <td>Business</td>\n",
              "      <td>Fort Pierce</td>\n",
              "      <td>Fort Pierce</td>\n",
              "      <td>5.1</td>\n",
              "      <td>Meal/Entertain</td>\n",
              "      <td>21</td>\n",
              "      <td>1</td>\n",
              "      <td>4</td>\n",
              "      <td>1</td>\n",
              "      <td>Friday</td>\n",
              "    </tr>\n",
              "    <tr>\n",
              "      <th>2</th>\n",
              "      <td>2016-01-02 20:25:00</td>\n",
              "      <td>2016-01-02 20:38:00</td>\n",
              "      <td>Business</td>\n",
              "      <td>Fort Pierce</td>\n",
              "      <td>Fort Pierce</td>\n",
              "      <td>4.8</td>\n",
              "      <td>Errand/Supplies</td>\n",
              "      <td>20</td>\n",
              "      <td>2</td>\n",
              "      <td>5</td>\n",
              "      <td>1</td>\n",
              "      <td>Saturday</td>\n",
              "    </tr>\n",
              "    <tr>\n",
              "      <th>3</th>\n",
              "      <td>2016-01-05 17:31:00</td>\n",
              "      <td>2016-01-05 17:45:00</td>\n",
              "      <td>Business</td>\n",
              "      <td>Fort Pierce</td>\n",
              "      <td>Fort Pierce</td>\n",
              "      <td>4.7</td>\n",
              "      <td>Meeting</td>\n",
              "      <td>17</td>\n",
              "      <td>5</td>\n",
              "      <td>1</td>\n",
              "      <td>1</td>\n",
              "      <td>Tuesday</td>\n",
              "    </tr>\n",
              "    <tr>\n",
              "      <th>4</th>\n",
              "      <td>2016-01-06 14:42:00</td>\n",
              "      <td>2016-01-06 15:49:00</td>\n",
              "      <td>Business</td>\n",
              "      <td>Fort Pierce</td>\n",
              "      <td>West Palm Beach</td>\n",
              "      <td>63.7</td>\n",
              "      <td>Customer Visit</td>\n",
              "      <td>14</td>\n",
              "      <td>6</td>\n",
              "      <td>2</td>\n",
              "      <td>1</td>\n",
              "      <td>Wednesday</td>\n",
              "    </tr>\n",
              "    <tr>\n",
              "      <th>5</th>\n",
              "      <td>2016-01-06 17:15:00</td>\n",
              "      <td>2016-01-06 17:19:00</td>\n",
              "      <td>Business</td>\n",
              "      <td>West Palm Beach</td>\n",
              "      <td>West Palm Beach</td>\n",
              "      <td>4.3</td>\n",
              "      <td>Meal/Entertain</td>\n",
              "      <td>17</td>\n",
              "      <td>6</td>\n",
              "      <td>2</td>\n",
              "      <td>1</td>\n",
              "      <td>Wednesday</td>\n",
              "    </tr>\n",
              "  </tbody>\n",
              "</table>\n",
              "</div>\n",
              "      <button class=\"colab-df-convert\" onclick=\"convertToInteractive('df-d2cf4248-c69a-4177-9ffb-1e62401dc56e')\"\n",
              "              title=\"Convert this dataframe to an interactive table.\"\n",
              "              style=\"display:none;\">\n",
              "        \n",
              "  <svg xmlns=\"http://www.w3.org/2000/svg\" height=\"24px\"viewBox=\"0 0 24 24\"\n",
              "       width=\"24px\">\n",
              "    <path d=\"M0 0h24v24H0V0z\" fill=\"none\"/>\n",
              "    <path d=\"M18.56 5.44l.94 2.06.94-2.06 2.06-.94-2.06-.94-.94-2.06-.94 2.06-2.06.94zm-11 1L8.5 8.5l.94-2.06 2.06-.94-2.06-.94L8.5 2.5l-.94 2.06-2.06.94zm10 10l.94 2.06.94-2.06 2.06-.94-2.06-.94-.94-2.06-.94 2.06-2.06.94z\"/><path d=\"M17.41 7.96l-1.37-1.37c-.4-.4-.92-.59-1.43-.59-.52 0-1.04.2-1.43.59L10.3 9.45l-7.72 7.72c-.78.78-.78 2.05 0 2.83L4 21.41c.39.39.9.59 1.41.59.51 0 1.02-.2 1.41-.59l7.78-7.78 2.81-2.81c.8-.78.8-2.07 0-2.86zM5.41 20L4 18.59l7.72-7.72 1.47 1.35L5.41 20z\"/>\n",
              "  </svg>\n",
              "      </button>\n",
              "      \n",
              "  <style>\n",
              "    .colab-df-container {\n",
              "      display:flex;\n",
              "      flex-wrap:wrap;\n",
              "      gap: 12px;\n",
              "    }\n",
              "\n",
              "    .colab-df-convert {\n",
              "      background-color: #E8F0FE;\n",
              "      border: none;\n",
              "      border-radius: 50%;\n",
              "      cursor: pointer;\n",
              "      display: none;\n",
              "      fill: #1967D2;\n",
              "      height: 32px;\n",
              "      padding: 0 0 0 0;\n",
              "      width: 32px;\n",
              "    }\n",
              "\n",
              "    .colab-df-convert:hover {\n",
              "      background-color: #E2EBFA;\n",
              "      box-shadow: 0px 1px 2px rgba(60, 64, 67, 0.3), 0px 1px 3px 1px rgba(60, 64, 67, 0.15);\n",
              "      fill: #174EA6;\n",
              "    }\n",
              "\n",
              "    [theme=dark] .colab-df-convert {\n",
              "      background-color: #3B4455;\n",
              "      fill: #D2E3FC;\n",
              "    }\n",
              "\n",
              "    [theme=dark] .colab-df-convert:hover {\n",
              "      background-color: #434B5C;\n",
              "      box-shadow: 0px 1px 3px 1px rgba(0, 0, 0, 0.15);\n",
              "      filter: drop-shadow(0px 1px 2px rgba(0, 0, 0, 0.3));\n",
              "      fill: #FFFFFF;\n",
              "    }\n",
              "  </style>\n",
              "\n",
              "      <script>\n",
              "        const buttonEl =\n",
              "          document.querySelector('#df-d2cf4248-c69a-4177-9ffb-1e62401dc56e button.colab-df-convert');\n",
              "        buttonEl.style.display =\n",
              "          google.colab.kernel.accessAllowed ? 'block' : 'none';\n",
              "\n",
              "        async function convertToInteractive(key) {\n",
              "          const element = document.querySelector('#df-d2cf4248-c69a-4177-9ffb-1e62401dc56e');\n",
              "          const dataTable =\n",
              "            await google.colab.kernel.invokeFunction('convertToInteractive',\n",
              "                                                     [key], {});\n",
              "          if (!dataTable) return;\n",
              "\n",
              "          const docLinkHtml = 'Like what you see? Visit the ' +\n",
              "            '<a target=\"_blank\" href=https://colab.research.google.com/notebooks/data_table.ipynb>data table notebook</a>'\n",
              "            + ' to learn more about interactive tables.';\n",
              "          element.innerHTML = '';\n",
              "          dataTable['output_type'] = 'display_data';\n",
              "          await google.colab.output.renderOutput(dataTable, element);\n",
              "          const docLink = document.createElement('div');\n",
              "          docLink.innerHTML = docLinkHtml;\n",
              "          element.appendChild(docLink);\n",
              "        }\n",
              "      </script>\n",
              "    </div>\n",
              "  </div>\n",
              "  "
            ]
          },
          "metadata": {},
          "execution_count": 29
        }
      ]
    },
    {
      "cell_type": "markdown",
      "source": [
        "## Categorias de viagem"
      ],
      "metadata": {
        "id": "B-oYi2v5jUXc"
      }
    },
    {
      "cell_type": "code",
      "source": [
        "data['CATEGORY*'].value_counts()"
      ],
      "metadata": {
        "colab": {
          "base_uri": "https://localhost:8080/"
        },
        "id": "ybJ9YsS7SsHO",
        "outputId": "f9e22416-74fd-452a-ff32-0d77360df331"
      },
      "execution_count": 30,
      "outputs": [
        {
          "output_type": "execute_result",
          "data": {
            "text/plain": [
              "Business    647\n",
              "Personal      6\n",
              "Name: CATEGORY*, dtype: int64"
            ]
          },
          "metadata": {},
          "execution_count": 30
        }
      ]
    },
    {
      "cell_type": "markdown",
      "source": [
        "Podemos ver que a categoria Business, em que a conta está relacionada ao seu trabalho, é a mais utilizada, de longe. Mais adiante veremos o porquê.\n",
        "\n",
        "Vamos ver isso de forma gráfica."
      ],
      "metadata": {
        "id": "qGH5eqlmnfYr"
      }
    },
    {
      "cell_type": "code",
      "source": [
        "sns.countplot(x='CATEGORY*', data=data)"
      ],
      "metadata": {
        "colab": {
          "base_uri": "https://localhost:8080/",
          "height": 296
        },
        "id": "GCcQB8DYjegQ",
        "outputId": "3d0c7fcc-de15-487f-bf7d-79c54efd94bc"
      },
      "execution_count": 31,
      "outputs": [
        {
          "output_type": "execute_result",
          "data": {
            "text/plain": [
              "<matplotlib.axes._subplots.AxesSubplot at 0x7f7d20732e10>"
            ]
          },
          "metadata": {},
          "execution_count": 31
        },
        {
          "output_type": "display_data",
          "data": {
            "text/plain": [
              "<Figure size 432x288 with 1 Axes>"
            ],
            "image/png": "[encoded data removed]"
          },
          "metadata": {
            "needs_background": "light"
          }
        }
      ]
    },
    {
      "cell_type": "markdown",
      "source": [
        "## Qual a distância que as pessoas viagem de Uber?"
      ],
      "metadata": {
        "id": "SzRep1Fxood2"
      }
    },
    {
      "cell_type": "markdown",
      "source": [
        "Vamos ver isso utilizando um gráfico de histograma."
      ],
      "metadata": {
        "id": "ezUrfpsso9Yg"
      }
    },
    {
      "cell_type": "code",
      "source": [
        "data['MILES*'].plot.hist()"
      ],
      "metadata": {
        "colab": {
          "base_uri": "https://localhost:8080/",
          "height": 282
        },
        "id": "6xFVj0QOn6Jn",
        "outputId": "656820e3-ccec-4a49-8a24-856136497583"
      },
      "execution_count": 32,
      "outputs": [
        {
          "output_type": "execute_result",
          "data": {
            "text/plain": [
              "<matplotlib.axes._subplots.AxesSubplot at 0x7f7d2068fb90>"
            ]
          },
          "metadata": {},
          "execution_count": 32
        },
        {
          "output_type": "display_data",
          "data": {
            "text/plain": [
              "<Figure size 432x288 with 1 Axes>"
            ],
            "image/png": "[encoded data removed]"
          },
          "metadata": {
            "needs_background": "light"
          }
        }
      ]
    },
    {
      "cell_type": "markdown",
      "source": [
        "Podemos ver que a grande maioria dos usuários fazem viagens de curta distância."
      ],
      "metadata": {
        "id": "c8bTqzl-pBil"
      }
    },
    {
      "cell_type": "markdown",
      "source": [
        "## Qual o horário que as pessoas mais costumam utilizar o Uber?"
      ],
      "metadata": {
        "id": "q_TSb2zVpNc7"
      }
    },
    {
      "cell_type": "markdown",
      "source": [
        "Esta é uma boa pergunta, pois podemos saber qual horário é melhor para notificar algo aos usuários, como uma propaganda, por exemplo."
      ],
      "metadata": {
        "id": "prVkefECpXT8"
      }
    },
    {
      "cell_type": "code",
      "source": [
        "hours = data['START_DATE*'].dt.hour.value_counts()\n",
        "hours.plot.bar(figsize=(10,5))\n",
        "\n",
        "plt.xlabel('Hours')\n",
        "plt.ylabel('Frequency')\n",
        "plt.title('Number of trips vs hours')"
      ],
      "metadata": {
        "colab": {
          "base_uri": "https://localhost:8080/",
          "height": 369
        },
        "id": "M0Mp2FlWo7Ik",
        "outputId": "1cd096bc-4dd2-41b0-cbb2-8eca5dabf95a"
      },
      "execution_count": 43,
      "outputs": [
        {
          "output_type": "execute_result",
          "data": {
            "text/plain": [
              "Text(0.5, 1.0, 'Number of trips vs hours')"
            ]
          },
          "metadata": {},
          "execution_count": 43
        },
        {
          "output_type": "display_data",
          "data": {
            "text/plain": [
              "<Figure size 720x360 with 1 Axes>"
            ],
            "image/png": "[encoded data removed]"
          },
          "metadata": {
            "needs_background": "light"
          }
        }
      ]
    },
    {
      "cell_type": "markdown",
      "source": [
        "Podemos ver que o horário que as pessoas mais utilizam Uber é às 13h, seguido pelos horários de 14h, 17h, 15h e 18h."
      ],
      "metadata": {
        "id": "_RzPuq7nqJlh"
      }
    },
    {
      "cell_type": "markdown",
      "source": [
        "## Qual o próposito da viagem?"
      ],
      "metadata": {
        "id": "YGl_P6xLqe_u"
      }
    },
    {
      "cell_type": "code",
      "source": [
        "data['PURPOSE*'].value_counts().plot(kind='bar', figsize=(10,5))"
      ],
      "metadata": {
        "colab": {
          "base_uri": "https://localhost:8080/",
          "height": 408
        },
        "id": "caW6xukTpxoI",
        "outputId": "df04f9aa-817f-4c61-cfd8-e30cca641e4f"
      },
      "execution_count": 34,
      "outputs": [
        {
          "output_type": "execute_result",
          "data": {
            "text/plain": [
              "<matplotlib.axes._subplots.AxesSubplot at 0x7f7d2067fe50>"
            ]
          },
          "metadata": {},
          "execution_count": 34
        },
        {
          "output_type": "display_data",
          "data": {
            "text/plain": [
              "<Figure size 720x360 with 1 Axes>"
            ],
            "image/png": "[encoded data removed]"
          },
          "metadata": {
            "needs_background": "light"
          }
        }
      ]
    },
    {
      "cell_type": "markdown",
      "source": [
        "Podemos ver que as pessoas utilizaram mais o serviço para ir a Meeting."
      ],
      "metadata": {
        "id": "9evE-ct2tl9d"
      }
    },
    {
      "cell_type": "markdown",
      "source": [
        "Isto é interessante, pois a Uber pode focar pessoas que vão a reuniões com mais frequência. Por exemplo, oferecer um desconto para quem usa o serviço para ir a reuniões ou para jantar/entretenimento."
      ],
      "metadata": {
        "id": "49TartgCun4V"
      }
    },
    {
      "cell_type": "markdown",
      "source": [
        "## Qual dia tem o maior número de viagens?"
      ],
      "metadata": {
        "id": "9kdGtFwyvkn5"
      }
    },
    {
      "cell_type": "code",
      "source": [
        "data['WEEKDAY'].value_counts().plot(kind='bar', figsize=(10,5))"
      ],
      "metadata": {
        "id": "gePRmOHwrqAN",
        "colab": {
          "base_uri": "https://localhost:8080/",
          "height": 385
        },
        "outputId": "d250911c-5d89-411e-cf28-6d328bdf42c7"
      },
      "execution_count": 35,
      "outputs": [
        {
          "output_type": "execute_result",
          "data": {
            "text/plain": [
              "<matplotlib.axes._subplots.AxesSubplot at 0x7f7d20833410>"
            ]
          },
          "metadata": {},
          "execution_count": 35
        },
        {
          "output_type": "display_data",
          "data": {
            "text/plain": [
              "<Figure size 720x360 with 1 Axes>"
            ],
            "image/png": "[encoded data removed]"
          },
          "metadata": {
            "needs_background": "light"
          }
        }
      ]
    },
    {
      "cell_type": "markdown",
      "source": [
        "Podemos ver que o dia que as pessoas mais viajam é Sexta-feira"
      ],
      "metadata": {
        "id": "KHJc8gD8wdcL"
      }
    },
    {
      "cell_type": "markdown",
      "source": [
        "## Qual o número de viagens por dia?"
      ],
      "metadata": {
        "id": "w_6BfN3-wrZM"
      }
    },
    {
      "cell_type": "code",
      "source": [
        "data['DAY'].value_counts().plot(kind='bar', figsize=(10,5))"
      ],
      "metadata": {
        "colab": {
          "base_uri": "https://localhost:8080/",
          "height": 339
        },
        "id": "FfXl1e1rwb5R",
        "outputId": "9340774c-47d3-4066-c81c-1826c42ec9c8"
      },
      "execution_count": 36,
      "outputs": [
        {
          "output_type": "execute_result",
          "data": {
            "text/plain": [
              "<matplotlib.axes._subplots.AxesSubplot at 0x7f7d20407a10>"
            ]
          },
          "metadata": {},
          "execution_count": 36
        },
        {
          "output_type": "display_data",
          "data": {
            "text/plain": [
              "<Figure size 720x360 with 1 Axes>"
            ],
            "image/png": "[encoded data removed]"
          },
          "metadata": {
            "needs_background": "light"
          }
        }
      ]
    },
    {
      "cell_type": "markdown",
      "source": [
        "Podemos ver que o dia 21 é o dia em que as pessoas mais viajam. Elas viajam bastante no dia 29, mas pouco nos dias 30 e 31, o que é interessante."
      ],
      "metadata": {
        "id": "F6otF9A7w3YR"
      }
    },
    {
      "cell_type": "markdown",
      "source": [
        "## Qual o número de viagens por mês?"
      ],
      "metadata": {
        "id": "oAXRWKK5xGfH"
      }
    },
    {
      "cell_type": "code",
      "source": [
        "data['MONTH'].value_counts().plot(kind='bar', figsize=(10,5))"
      ],
      "metadata": {
        "colab": {
          "base_uri": "https://localhost:8080/",
          "height": 342
        },
        "id": "6eHA3D4ywwkV",
        "outputId": "d97be449-5c6b-44bc-99b0-510806a03be1"
      },
      "execution_count": 37,
      "outputs": [
        {
          "output_type": "execute_result",
          "data": {
            "text/plain": [
              "<matplotlib.axes._subplots.AxesSubplot at 0x7f7d20311310>"
            ]
          },
          "metadata": {},
          "execution_count": 37
        },
        {
          "output_type": "display_data",
          "data": {
            "text/plain": [
              "<Figure size 720x360 with 1 Axes>"
            ],
            "image/png": "[encoded data removed]"
          },
          "metadata": {
            "needs_background": "light"
          }
        }
      ]
    },
    {
      "cell_type": "markdown",
      "source": [
        "Podemos ver que as pessoas viajam bastante em dezembro, e muito pouco em agosto."
      ],
      "metadata": {
        "id": "8K0mvIsHxdeE"
      }
    },
    {
      "cell_type": "markdown",
      "source": [
        "## A partir de onde as pessoas mais saem e vão?"
      ],
      "metadata": {
        "id": "X6SYsyU8xpnD"
      }
    },
    {
      "cell_type": "code",
      "source": [
        "data['START*'].value_counts().plot(kind='bar', figsize=(30,5))"
      ],
      "metadata": {
        "colab": {
          "base_uri": "https://localhost:8080/",
          "height": 344
        },
        "id": "FW5nrgx6xbBd",
        "outputId": "450f5c8a-6459-4c7b-b821-f518064eb1b2"
      },
      "execution_count": 40,
      "outputs": [
        {
          "output_type": "execute_result",
          "data": {
            "text/plain": [
              "<matplotlib.axes._subplots.AxesSubplot at 0x7f7d1fdd79d0>"
            ]
          },
          "metadata": {},
          "execution_count": 40
        },
        {
          "output_type": "display_data",
          "data": {
            "text/plain": [
              "<Figure size 2160x360 with 1 Axes>"
            ],
            "image/png": "[encoded data removed]"
          },
          "metadata": {
            "needs_background": "light"
          }
        }
      ]
    },
    {
      "cell_type": "markdown",
      "source": [
        "As pessoas saem mais de Cary, mas também costumam não dizer de onde saem exatamente, como podemos ver ali em segundo lugar. O motivo pode ser porque elas utilizam a localização atual e não digitam nada."
      ],
      "metadata": {
        "id": "FyPAHALnx98C"
      }
    },
    {
      "cell_type": "code",
      "source": [
        "data['STOP*'].value_counts().plot(kind='bar', figsize=(30,5))"
      ],
      "metadata": {
        "colab": {
          "base_uri": "https://localhost:8080/",
          "height": 343
        },
        "id": "H449mBI2xyIS",
        "outputId": "cee7840d-1a28-4988-aec6-438c25d0fcea"
      },
      "execution_count": 42,
      "outputs": [
        {
          "output_type": "execute_result",
          "data": {
            "text/plain": [
              "<matplotlib.axes._subplots.AxesSubplot at 0x7f7d1e2f5150>"
            ]
          },
          "metadata": {},
          "execution_count": 42
        },
        {
          "output_type": "display_data",
          "data": {
            "text/plain": [
              "<Figure size 2160x360 with 1 Axes>"
            ],
            "image/png": "[encoded data removed]"
          },
          "metadata": {
            "needs_background": "light"
          }
        }
      ]
    },
    {
      "cell_type": "markdown",
      "source": [
        "As pessoas também vão muito para o mesmo endereço de que mais saem, Cary. O mesmo ocorre com os endereços desconhecidos, que está em terceiro."
      ],
      "metadata": {
        "id": "9xuCd5TyyYh5"
      }
    },
    {
      "cell_type": "code",
      "source": [
        ""
      ],
      "metadata": {
        "id": "Sw4RvSFyyPWy"
      },
      "execution_count": null,
      "outputs": []
    }
  ]
}