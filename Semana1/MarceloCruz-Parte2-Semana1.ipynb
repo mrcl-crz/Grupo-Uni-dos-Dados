{
 "cells": [
  {
   "cell_type": "markdown",
   "metadata": {},
   "source": [
    "Exercícios - Semana 1 - Marcelo Cruz\n",
    "\n",
    "Conhecendo o Python e o Jupyter Notebook"
   ]
  },
  {
   "cell_type": "markdown",
   "metadata": {},
   "source": [
    "Demonstre como realizar no Python as seguintes operações: soma, subtração, multiplicação, divisão, exponenciação e raiz quadrada."
   ]
  },
  {
   "cell_type": "code",
   "execution_count": 65,
   "metadata": {},
   "outputs": [
    {
     "name": "stdout",
     "output_type": "stream",
     "text": [
      " soma: 27\n",
      " subtracao: 23\n",
      " multiplicacao: 50\n",
      " divisao: 12.5\n",
      " expo: 625\n",
      " raiz 1: 5.0\n",
      " raiz 2: 5.0\n",
      " raiz 3: 5.0\n"
     ]
    }
   ],
   "source": [
    "from math import sqrt, pow\n",
    "\n",
    "#Soma\n",
    "a = 25\n",
    "b = 2\n",
    "soma = a + b\n",
    "subtracao =  a - b\n",
    "multiplicacao = a * b\n",
    "divisao = a / b\n",
    "expo = a ** b\n",
    "raiz1 = a ** 0.5\n",
    "raiz2 = sqrt(a)\n",
    "raiz3 = pow(a, 0.5)\n",
    "print(f' soma: {soma}\\n subtracao: {subtracao}\\n multiplicacao: {multiplicacao}\\n divisao: {divisao}\\n expo: {expo}\\n raiz 1: {raiz1}\\n raiz 2: {raiz2}\\n raiz 3: {raiz3}')\n"
   ]
  },
  {
   "cell_type": "markdown",
   "metadata": {},
   "source": [
    "Qual operador utilizamos para obter o resto de uma divisão no Python?"
   ]
  },
  {
   "cell_type": "code",
   "execution_count": 9,
   "metadata": {},
   "outputs": [
    {
     "name": "stdout",
     "output_type": "stream",
     "text": [
      "1\n"
     ]
    }
   ],
   "source": [
    "resto = 3 % 2\n",
    "print(resto)"
   ]
  },
  {
   "cell_type": "markdown",
   "metadata": {},
   "source": [
    "Como verificar qual o tipo de algum objeto no Python?"
   ]
  },
  {
   "cell_type": "code",
   "execution_count": 12,
   "metadata": {},
   "outputs": [
    {
     "name": "stdout",
     "output_type": "stream",
     "text": [
      "<class 'int'>\n",
      "<class 'float'>\n",
      "<class 'str'>\n"
     ]
    }
   ],
   "source": [
    "# utilizando o método type()\n",
    "integer_value = 2\n",
    "float_value = 2.0\n",
    "string_value = '2'\n",
    "print(type(integer_value))\n",
    "print(type(float_value))\n",
    "print(type(string_value))"
   ]
  },
  {
   "cell_type": "markdown",
   "metadata": {},
   "source": [
    "Qual a diferença entre o objeto x = 2, y = 2.0 e z = '2.0'?\n",
    "\n",
    "Resposta: o x é do tipo inteiro, o y é do tipo float e o z é do tipo string, como podemos ver na questão anterior."
   ]
  },
  {
   "cell_type": "markdown",
   "metadata": {},
   "source": [
    "O que acontece se escrevermos 2++2 ao invés de 2+2? E se fizermos 2 - - 2? E 2==2 ou 2 2? Verifique o output de cada situação."
   ]
  },
  {
   "cell_type": "code",
   "execution_count": null,
   "metadata": {},
   "outputs": [],
   "source": [
    "print(2++2) # resultado esperado de uma soma normal, pois é como se o segundo sinal representasse o sinal do número e o primeiro sinal o da operação\n",
    "print(2--2) # aqui o resultado é 4, pois, como no exemplo anterior, o segundo menos (-) representa o sinal do segundo 2. Na matemática, menos com menos dá mais.\n",
    "print(2==2) # neste caso, estamos utilizando um operador de comparação, ou seja, estamos perguntando se 2 é igual a 2.\n",
    "print(2 2) # este ultimo irá gerar um erro de sintax inválida."
   ]
  },
  {
   "cell_type": "markdown",
   "metadata": {},
   "source": [
    "É possível escrever 02 ao invés de apenas 2 no Python?\n",
    "\n",
    "Não é possível, pois não podemos iniciar números decimais com 0."
   ]
  },
  {
   "cell_type": "code",
   "execution_count": 34,
   "metadata": {},
   "outputs": [
    {
     "ename": "SyntaxError",
     "evalue": "leading zeros in decimal integer literals are not permitted; use an 0o prefix for octal integers (3942229394.py, line 1)",
     "output_type": "error",
     "traceback": [
      "\u001b[1;36m  Input \u001b[1;32mIn [34]\u001b[1;36m\u001b[0m\n\u001b[1;33m    teste = 02\u001b[0m\n\u001b[1;37m             ^\u001b[0m\n\u001b[1;31mSyntaxError\u001b[0m\u001b[1;31m:\u001b[0m leading zeros in decimal integer literals are not permitted; use an 0o prefix for octal integers\n"
     ]
    }
   ],
   "source": [
    "teste = 02\n",
    "teste"
   ]
  },
  {
   "cell_type": "markdown",
   "metadata": {},
   "source": [
    "Crie uma variável chamada bônus (sem acento mesmo) que possui valor 50000. Digamos que esse é o registro do bônus dos trabalhadores da sua firma. A inflação no ano foi de 11%. Depois de criar a variável bônus em uma célula, altere seu valor na célula seguinte para que acompanhe a inflação. I.e., ajuste o valor da variável para que ele seja 11% acima de 50000 (1,11 x 50000)."
   ]
  },
  {
   "cell_type": "code",
   "execution_count": 15,
   "metadata": {},
   "outputs": [],
   "source": [
    "bonus = 50000"
   ]
  },
  {
   "cell_type": "code",
   "execution_count": 16,
   "metadata": {},
   "outputs": [
    {
     "name": "stdout",
     "output_type": "stream",
     "text": [
      "55500.0\n"
     ]
    }
   ],
   "source": [
    "inflacao = 11\n",
    "bonus += bonus * inflacao/100\n",
    "print(bonus)"
   ]
  },
  {
   "cell_type": "code",
   "execution_count": null,
   "metadata": {},
   "outputs": [],
   "source": []
  }
 ],
 "metadata": {
  "interpreter": {
   "hash": "83ad8e19c301a7d9ddc6fe7a0569835d074bcba7c3e06188cd3866f03d420302"
  },
  "kernelspec": {
   "display_name": "Python 3.9.6 64-bit",
   "language": "python",
   "name": "python3"
  },
  "language_info": {
   "codemirror_mode": {
    "name": "ipython",
    "version": 3
   },
   "file_extension": ".py",
   "mimetype": "text/x-python",
   "name": "python",
   "nbconvert_exporter": "python",
   "pygments_lexer": "ipython3",
   "version": "3.9.6"
  },
  "orig_nbformat": 4
 },
 "nbformat": 4,
 "nbformat_minor": 2
}
